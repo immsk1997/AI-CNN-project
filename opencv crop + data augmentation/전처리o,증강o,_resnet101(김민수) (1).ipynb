{
  "nbformat": 4,
  "nbformat_minor": 0,
  "metadata": {
    "colab": {
      "provenance": [],
      "collapsed_sections": []
    },
    "kernelspec": {
      "name": "python3",
      "display_name": "Python 3"
    },
    "language_info": {
      "name": "python"
    }
  },
  "cells": [
    {
      "cell_type": "code",
      "execution_count": null,
      "metadata": {
        "id": "9Qz-YTSGZOu-"
      },
      "outputs": [],
      "source": [
        "import keras\n",
        "from keras.preprocessing.image import ImageDataGenerator\n",
        "from keras.models import Sequential\n",
        "from keras.layers import Dense\n",
        "from tensorflow.keras.optimizers import Adam\n",
        "import tensorflow as tf\n",
        "import os\n",
        "from tensorflow.keras.layers import Dense, Flatten, MaxPooling2D\n",
        "from tensorflow.keras import datasets\n",
        "from tensorflow.keras import Input\n",
        "from tensorflow.keras.layers import Dropout, BatchNormalization\n",
        "from tensorflow.keras.applications.resnet import preprocess_input\n",
        "from tensorflow.keras.applications import ResNet101"
      ]
    },
    {
      "cell_type": "code",
      "source": [
        "num_classes = 5\n",
        "image_size = 224"
      ],
      "metadata": {
        "id": "Uh8FvggLcipB"
      },
      "execution_count": null,
      "outputs": []
    },
    {
      "cell_type": "code",
      "source": [
        "data_generator=ImageDataGenerator(preprocessing_function=preprocess_input,)"
      ],
      "metadata": {
        "id": "FKyTHC6xcirX"
      },
      "execution_count": null,
      "outputs": []
    },
    {
      "cell_type": "code",
      "source": [
        "trainDir = '/content/drive/MyDrive/dataset4/train'\n",
        "train_set = data_generator.flow_from_directory(\n",
        "    trainDir,\n",
        "    target_size=(image_size, image_size),\n",
        "    batch_size=5000,\n",
        "    class_mode='categorical'\n",
        "    )"
      ],
      "metadata": {
        "colab": {
          "base_uri": "https://localhost:8080/"
        },
        "id": "BrhFQBjCcit7",
        "outputId": "a8dae299-6af5-4868-e084-01e8962cad39"
      },
      "execution_count": null,
      "outputs": [
        {
          "output_type": "stream",
          "name": "stdout",
          "text": [
            "Found 19050 images belonging to 5 classes.\n"
          ]
        }
      ]
    },
    {
      "cell_type": "code",
      "source": [
        "x_train, y_train = next(train_set)\n",
        "len(x_train)"
      ],
      "metadata": {
        "id": "DQF3XhT3ciwh",
        "colab": {
          "base_uri": "https://localhost:8080/"
        },
        "outputId": "57bd65bc-5e94-46bd-b2d5-961ceb302b21"
      },
      "execution_count": null,
      "outputs": [
        {
          "output_type": "execute_result",
          "data": {
            "text/plain": [
              "5000"
            ]
          },
          "metadata": {},
          "execution_count": 5
        }
      ]
    },
    {
      "cell_type": "code",
      "source": [
        "testDir = '/content/drive/MyDrive/dataset4/test'\n",
        "test_set = data_generator.flow_from_directory(\n",
        "    testDir,\n",
        "    target_size=(image_size, image_size),\n",
        "    batch_size=620,\n",
        "    class_mode='categorical'\n",
        "    )"
      ],
      "metadata": {
        "id": "QluQh6uPcizJ",
        "colab": {
          "base_uri": "https://localhost:8080/"
        },
        "outputId": "2c0b4610-e86b-4b25-ee65-d05281179c50"
      },
      "execution_count": null,
      "outputs": [
        {
          "output_type": "stream",
          "name": "stdout",
          "text": [
            "Found 1574 images belonging to 5 classes.\n"
          ]
        }
      ]
    },
    {
      "cell_type": "code",
      "source": [
        "x_test, y_test = next(test_set)\n",
        "len(x_test)"
      ],
      "metadata": {
        "id": "64fhPAZ-ci1u",
        "colab": {
          "base_uri": "https://localhost:8080/"
        },
        "outputId": "55d984b6-c76f-4da1-cb71-debe71c1c655"
      },
      "execution_count": null,
      "outputs": [
        {
          "output_type": "execute_result",
          "data": {
            "text/plain": [
              "620"
            ]
          },
          "metadata": {},
          "execution_count": 7
        }
      ]
    },
    {
      "cell_type": "code",
      "source": [
        "from keras.models import Model\n",
        "base_model= ResNet101(weights='imagenet',pooling =\"max\" , include_top=False, input_shape=(224, 224, 3))"
      ],
      "metadata": {
        "id": "WA0RhWBYci4F",
        "colab": {
          "base_uri": "https://localhost:8080/"
        },
        "outputId": "d71aed9c-3579-44e8-8a17-bc621feee0f4"
      },
      "execution_count": null,
      "outputs": [
        {
          "output_type": "stream",
          "name": "stdout",
          "text": [
            "Downloading data from https://storage.googleapis.com/tensorflow/keras-applications/resnet/resnet101_weights_tf_dim_ordering_tf_kernels_notop.h5\n",
            "171446536/171446536 [==============================] - 1s 0us/step\n"
          ]
        }
      ]
    },
    {
      "cell_type": "code",
      "source": [
        "for layer in base_model.layers:\n",
        "    layer.trainable = False"
      ],
      "metadata": {
        "id": "KAMEm6uHci6r"
      },
      "execution_count": null,
      "outputs": []
    },
    {
      "cell_type": "code",
      "source": [
        "last_layer = base_model.get_layer('conv5_block3_out')\n",
        "print(last_layer.output_shape)"
      ],
      "metadata": {
        "id": "OOjgTtAuci9b",
        "colab": {
          "base_uri": "https://localhost:8080/"
        },
        "outputId": "c9fe443e-cd6e-43b7-8243-4f5a2346b73b"
      },
      "execution_count": null,
      "outputs": [
        {
          "output_type": "stream",
          "name": "stdout",
          "text": [
            "(None, 7, 7, 2048)\n"
          ]
        }
      ]
    },
    {
      "cell_type": "code",
      "source": [
        "x = Flatten()(last_layer.output)\n",
        "x = Dense(1024, activation = 'relu')(x)\n",
        "x = Dropout(0.5)(x)\n",
        "x = Dense(5, activation = 'softmax')(x)\n",
        "model = Model(base_model.input, x)"
      ],
      "metadata": {
        "id": "MeMtkg3sci_5"
      },
      "execution_count": null,
      "outputs": []
    },
    {
      "cell_type": "code",
      "source": [
        "optimizer = Adam(lr=1e-6)\n",
        "model.compile(optimizer=optimizer, loss='categorical_crossentropy', metrics=['accuracy'])"
      ],
      "metadata": {
        "id": "hrwx7ADTcjCi",
        "colab": {
          "base_uri": "https://localhost:8080/"
        },
        "outputId": "62212760-1da9-4516-c096-be14918d80c2"
      },
      "execution_count": null,
      "outputs": [
        {
          "output_type": "stream",
          "name": "stderr",
          "text": [
            "/usr/local/lib/python3.7/dist-packages/keras/optimizers/optimizer_v2/adam.py:110: UserWarning: The `lr` argument is deprecated, use `learning_rate` instead.\n",
            "  super(Adam, self).__init__(name, **kwargs)\n"
          ]
        }
      ]
    },
    {
      "cell_type": "code",
      "source": [
        "train_datagen=ImageDataGenerator(preprocessing_function = preprocess_input) \n",
        "\n",
        "validation_datagen = ImageDataGenerator(preprocessing_function = preprocess_input)"
      ],
      "metadata": {
        "id": "EimKAisLcjFG"
      },
      "execution_count": null,
      "outputs": []
    },
    {
      "cell_type": "code",
      "source": [
        "model.compile(loss='categorical_crossentropy', optimizer='adam', metrics=['accuracy'])\n",
        "\n",
        "hist=model.fit(x_train, y_train, batch_size=120, epochs=20, validation_split=0.3)\n",
        "#include_top=False, pooling=max"
      ],
      "metadata": {
        "id": "1CgjUQM7cjHs",
        "colab": {
          "base_uri": "https://localhost:8080/"
        },
        "outputId": "406772a6-a9b0-498a-e4b2-d29fcff36505"
      },
      "execution_count": null,
      "outputs": [
        {
          "output_type": "stream",
          "name": "stdout",
          "text": [
            "Epoch 1/20\n",
            "30/30 [==============================] - 1529s 51s/step - loss: 68.1902 - accuracy: 0.4706 - val_loss: 7.3296 - val_accuracy: 0.6853\n",
            "Epoch 2/20\n",
            "30/30 [==============================] - 1495s 50s/step - loss: 3.2284 - accuracy: 0.7429 - val_loss: 0.6641 - val_accuracy: 0.7933\n",
            "Epoch 3/20\n",
            "30/30 [==============================] - 1494s 50s/step - loss: 0.4961 - accuracy: 0.8254 - val_loss: 0.4658 - val_accuracy: 0.8247\n",
            "Epoch 4/20\n",
            "30/30 [==============================] - 1497s 50s/step - loss: 0.3357 - accuracy: 0.8700 - val_loss: 0.4018 - val_accuracy: 0.8487\n",
            "Epoch 5/20\n",
            "30/30 [==============================] - 1496s 50s/step - loss: 0.2681 - accuracy: 0.8943 - val_loss: 0.3823 - val_accuracy: 0.8527\n",
            "Epoch 6/20\n",
            "30/30 [==============================] - 1504s 51s/step - loss: 0.2382 - accuracy: 0.9103 - val_loss: 0.3531 - val_accuracy: 0.8713\n",
            "Epoch 7/20\n",
            "30/30 [==============================] - 1494s 50s/step - loss: 0.1920 - accuracy: 0.9297 - val_loss: 0.3560 - val_accuracy: 0.8760\n",
            "Epoch 8/20\n",
            "30/30 [==============================] - 1491s 50s/step - loss: 0.1560 - accuracy: 0.9443 - val_loss: 0.3513 - val_accuracy: 0.8640\n",
            "Epoch 9/20\n",
            "30/30 [==============================] - 1496s 50s/step - loss: 0.1326 - accuracy: 0.9520 - val_loss: 0.3281 - val_accuracy: 0.8767\n",
            "Epoch 10/20\n",
            "30/30 [==============================] - 1493s 50s/step - loss: 0.1098 - accuracy: 0.9623 - val_loss: 0.3241 - val_accuracy: 0.8860\n",
            "Epoch 11/20\n",
            "30/30 [==============================] - 1502s 51s/step - loss: 0.0908 - accuracy: 0.9677 - val_loss: 0.3152 - val_accuracy: 0.9027\n",
            "Epoch 12/20\n",
            "30/30 [==============================] - 1497s 50s/step - loss: 0.0895 - accuracy: 0.9671 - val_loss: 0.2980 - val_accuracy: 0.9067\n",
            "Epoch 13/20\n",
            "30/30 [==============================] - 1500s 51s/step - loss: 0.0834 - accuracy: 0.9691 - val_loss: 0.3182 - val_accuracy: 0.8993\n",
            "Epoch 14/20\n",
            "30/30 [==============================] - 1497s 50s/step - loss: 0.0748 - accuracy: 0.9737 - val_loss: 0.3266 - val_accuracy: 0.8913\n",
            "Epoch 15/20\n",
            "30/30 [==============================] - 1495s 50s/step - loss: 0.0622 - accuracy: 0.9800 - val_loss: 0.3501 - val_accuracy: 0.8973\n",
            "Epoch 16/20\n",
            "30/30 [==============================] - 1500s 50s/step - loss: 0.0710 - accuracy: 0.9740 - val_loss: 0.3073 - val_accuracy: 0.9020\n",
            "Epoch 17/20\n",
            "30/30 [==============================] - 1574s 53s/step - loss: 0.0493 - accuracy: 0.9846 - val_loss: 0.3197 - val_accuracy: 0.9087\n",
            "Epoch 18/20\n",
            "30/30 [==============================] - 1547s 52s/step - loss: 0.0409 - accuracy: 0.9877 - val_loss: 0.2961 - val_accuracy: 0.9113\n",
            "Epoch 19/20\n",
            "30/30 [==============================] - 1497s 50s/step - loss: 0.0495 - accuracy: 0.9817 - val_loss: 0.3122 - val_accuracy: 0.9047\n",
            "Epoch 20/20\n",
            "30/30 [==============================] - 1494s 50s/step - loss: 0.0581 - accuracy: 0.9794 - val_loss: 0.3322 - val_accuracy: 0.9080\n"
          ]
        }
      ]
    },
    {
      "cell_type": "code",
      "source": [
        "res = model.evaluate(x_train, y_train)\n",
        "print(f'정확도={res[1]*100:.1f}%')"
      ],
      "metadata": {
        "id": "SmZiKaXkcjKk",
        "colab": {
          "base_uri": "https://localhost:8080/"
        },
        "outputId": "6efdf59b-34dd-4b18-d46a-979ec8e24383"
      },
      "execution_count": null,
      "outputs": [
        {
          "output_type": "stream",
          "name": "stdout",
          "text": [
            "157/157 [==============================] - 1493s 10s/step - loss: 0.1037 - accuracy: 0.9724\n",
            "정확도=97.2%\n"
          ]
        }
      ]
    },
    {
      "cell_type": "code",
      "source": [
        "res = model.evaluate(x_test, y_test)\n",
        "print(f'정확도={res[1]*100:.1f}%')"
      ],
      "metadata": {
        "id": "IOBii8_9cjNK",
        "colab": {
          "base_uri": "https://localhost:8080/"
        },
        "outputId": "1289e026-1a5b-4a39-91d5-1f75c9ffb8b9"
      },
      "execution_count": null,
      "outputs": [
        {
          "output_type": "stream",
          "name": "stdout",
          "text": [
            "20/20 [==============================] - 187s 9s/step - loss: 0.8646 - accuracy: 0.8371\n",
            "정확도=83.7%\n"
          ]
        }
      ]
    },
    {
      "cell_type": "code",
      "source": [
        "import matplotlib.pyplot as plt\n",
        "\n",
        "plt.plot(hist.history['accuracy'])\n",
        "plt.plot(hist.history['val_accuracy'])\n",
        "plt.title('ResNet101')\n",
        "plt.ylabel('Accuracy')\n",
        "plt.xlabel('Epoch')\n",
        "plt.legend(['Train', 'Validataion'], loc = 'lower right')\n",
        "plt.grid()\n",
        "plt.show()"
      ],
      "metadata": {
        "id": "uOz-HaLvcjPx",
        "colab": {
          "base_uri": "https://localhost:8080/",
          "height": 295
        },
        "outputId": "c0977dd0-e731-4608-97e8-ee31ef804457"
      },
      "execution_count": null,
      "outputs": [
        {
          "output_type": "display_data",
          "data": {
            "text/plain": [
              "<Figure size 432x288 with 1 Axes>"
            ],
            "image/png": "[encoded data removed]"
          },
          "metadata": {
            "needs_background": "light"
          }
        }
      ]
    },
    {
      "cell_type": "code",
      "source": [
        "plt.plot(hist.history['loss'])\n",
        "plt.plot(hist.history['val_loss'])\n",
        "plt.title('ResNet101')\n",
        "plt.ylabel('Loss')\n",
        "plt.xlabel('Epoch')\n",
        "plt.legend(['Train', 'Validataion'], loc = 'lower right')\n",
        "plt.grid()\n",
        "plt.show()"
      ],
      "metadata": {
        "id": "Cg6aRU4WcjSP",
        "colab": {
          "base_uri": "https://localhost:8080/",
          "height": 295
        },
        "outputId": "c96c37be-1848-432c-98c6-0630bb9feae3"
      },
      "execution_count": null,
      "outputs": [
        {
          "output_type": "display_data",
          "data": {
            "text/plain": [
              "<Figure size 432x288 with 1 Axes>"
            ],
            "image/png": "[encoded data removed]"
          },
          "metadata": {
            "needs_background": "light"
          }
        }
      ]
    },
    {
      "cell_type": "code",
      "source": [
        "from tensorflow.python.keras.models import load_model\n",
        "model.save('RN101_model.h5')"
      ],
      "metadata": {
        "id": "1VTsbC8vS4PS"
      },
      "execution_count": null,
      "outputs": []
    },
    {
      "cell_type": "code",
      "source": [
        "load_model = tf.keras.models.load_model('RN101_model.h5')"
      ],
      "metadata": {
        "id": "GwWkrz1IcjXU"
      },
      "execution_count": null,
      "outputs": []
    }
  ]
}