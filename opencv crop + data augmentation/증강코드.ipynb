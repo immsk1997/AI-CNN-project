{
  "nbformat": 4,
  "nbformat_minor": 0,
  "metadata": {
    "colab": {
      "provenance": [],
      "collapsed_sections": []
    },
    "kernelspec": {
      "name": "python3",
      "display_name": "Python 3"
    },
    "language_info": {
      "name": "python"
    }
  },
  "cells": [
    {
      "cell_type": "code",
      "execution_count": null,
      "metadata": {
        "id": "ev-VHHRTQIkM"
      },
      "outputs": [],
      "source": [
        "!pip install Augmentor"
      ]
    },
    {
      "cell_type": "code",
      "source": [
        "sourceDir = '/content/drive/MyDrive/졸업논문'\n",
        "trainDir = '/content/drive/MyDrive/dataset4/train'\n",
        "testDir = '/content/drive/MyDrive/dataset4/test'\n",
        "\n",
        "sourceDirs = os.listdir(sourceDir)\n",
        "trainDirs = os.listdir(trainDir)\n",
        "testDirs = os.listdir(testDir)\n",
        "\n",
        "for dir in sourceDirs:\n",
        "  if dir not in trainDirs:\n",
        "    os.mkdir(trainDir + '/' + dir)\n",
        "  if dir not in testDirs:\n",
        "    os.mkdir(testDir + '/' + dir)"
      ],
      "metadata": {
        "id": "eHgipYiXQKzZ"
      },
      "execution_count": null,
      "outputs": []
    },
    {
      "cell_type": "code",
      "source": [
        "from PIL import Image\n",
        "import cv2\n",
        "import numpy as np\n",
        "\n",
        "sourceDir = '/content/drive/MyDrive/졸업논문'\n",
        "trainDir = '/content/drive/MyDrive/dataset4/train'\n",
        "testDir = '/content/drive/MyDrive/dataset4/test'\n",
        "\n",
        "n = 1\n",
        "for s in sourceDirs:\n",
        "  file_list = os.listdir(sourceDir + '/' + s)\n",
        "  print(file_list)\n",
        "\n",
        "  i = 0\n",
        "  for f in file_list:\n",
        "    img = Image.open(sourceDir + '/' + s +'/' + f)\n",
        "    img_resize = img.resize((224,224))\n",
        "\n",
        "    files = os.listdir(trainDir + '/' + s)\n",
        "\n",
        "    if f not in files:\n",
        "      img_resize.save(trainDir + '/' + s +'/' + f)\n",
        "      img_convert.save(trainDir + '/' + s +'/' + f)"
      ],
      "metadata": {
        "id": "bGGD3DJMQK2M"
      },
      "execution_count": null,
      "outputs": []
    },
    {
      "cell_type": "code",
      "source": [
        "import Augmentor\n",
        "\n",
        "trainDir = '/content/drive/MyDrive/dataset4/train'\n",
        "trainDirs = os.listdir(trainDir)\n",
        "\n",
        "for s in trainDirs:\n",
        "  dir = trainDir + '/' + s\n",
        "  imgs = Augmentor.Pipeline(dir)\n",
        "\n",
        "  imgs.flip_left_right(probability=0.4)\n",
        "  imgs.flip_top_bottom(probability=0.4)\n",
        "  imgs.flip_random(probability=0.3)\n",
        "  imgs.rotate_without_crop(probability=0.5, max_left_rotation=360, max_right_rotation=360, expand=False, fillcolor=None)\n",
        "  imgs.rotate(probability=0.7, max_left_rotation=15, max_right_rotation=17)\n",
        "  imgs.sample(200)"
      ],
      "metadata": {
        "id": "SYt2_dLBQK4z"
      },
      "execution_count": null,
      "outputs": []
    },
    {
      "cell_type": "code",
      "source": [
        "import shutil\n",
        "\n",
        "trainDir = '/content/drive/MyDrive/dataset4/train'\n",
        "\n",
        "for s in trainDirs:\n",
        "  file_list = os.listdir(trainDir + '/' + s + '/output')\n",
        "  for f in file_list:\n",
        "    shutil.move(trainDir+'/'+s+'/output/'+f, trainDir+'/'+s)"
      ],
      "metadata": {
        "id": "qmc0hEcrQTut"
      },
      "execution_count": null,
      "outputs": []
    }
  ]
}