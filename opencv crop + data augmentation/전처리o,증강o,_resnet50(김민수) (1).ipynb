{
  "cells": [
    {
      "cell_type": "code",
      "execution_count": null,
      "metadata": {
        "id": "KrrO3wR_ZUYb"
      },
      "outputs": [],
      "source": [
        "import tensorflow as tf\n",
        "from keras.layers import Dense, GlobalAveragePooling2D, Dropout, Flatten\n",
        "from tensorflow.keras import datasets\n",
        "from tensorflow.keras.applications.resnet50 import preprocess_input\n",
        "from tensorflow.keras.applications.resnet50 import ResNet50\n",
        "from tensorflow.keras import Input\n",
        "from tensorflow.keras.layers import Dropout, BatchNormalization\n",
        "import pandas as pd\n",
        "import numpy as np\n",
        "import os\n",
        "import glob\n",
        "from keras.preprocessing import image\n",
        "from keras.preprocessing.image import ImageDataGenerator\n",
        "from keras.models import Model\n",
        "from tensorflow.keras.optimizers import Adam\n",
        "from keras.models import Sequential\n",
        "import keras\n",
        "import matplotlib.pyplot as plt\n",
        "from keras.preprocessing.image import ImageDataGenerator"
      ]
    },
    {
      "cell_type": "code",
      "execution_count": null,
      "metadata": {
        "id": "in2P8P9dhvbY"
      },
      "outputs": [],
      "source": [
        "num_classes = 5\n",
        "image_size = 224"
      ]
    },
    {
      "cell_type": "code",
      "execution_count": null,
      "metadata": {
        "id": "WFiKyD6Nhvdr"
      },
      "outputs": [],
      "source": [
        "data_generator=ImageDataGenerator(preprocessing_function=preprocess_input,)"
      ]
    },
    {
      "cell_type": "code",
      "execution_count": null,
      "metadata": {
        "colab": {
          "base_uri": "https://localhost:8080/"
        },
        "id": "jOrCENuihvgA",
        "outputId": "92cfee71-1507-4839-e04a-d95a7b84c4e3"
      },
      "outputs": [
        {
          "output_type": "stream",
          "name": "stdout",
          "text": [
            "Found 19050 images belonging to 5 classes.\n"
          ]
        }
      ],
      "source": [
        "trainDir = '/content/drive/MyDrive/dataset4/train'\n",
        "train_set = data_generator.flow_from_directory(\n",
        "    trainDir,\n",
        "    target_size=(image_size, image_size),\n",
        "    batch_size=5000,\n",
        "    class_mode='categorical'\n",
        "    )"
      ]
    },
    {
      "cell_type": "code",
      "execution_count": null,
      "metadata": {
        "colab": {
          "base_uri": "https://localhost:8080/"
        },
        "id": "zyzF6qfOhviZ",
        "outputId": "9cd45ae4-c2be-4049-befc-1d1fd369d15f"
      },
      "outputs": [
        {
          "output_type": "execute_result",
          "data": {
            "text/plain": [
              "5000"
            ]
          },
          "metadata": {},
          "execution_count": 5
        }
      ],
      "source": [
        "x_train, y_train = next(train_set)\n",
        "len(x_train)"
      ]
    },
    {
      "cell_type": "code",
      "execution_count": null,
      "metadata": {
        "colab": {
          "base_uri": "https://localhost:8080/"
        },
        "id": "nyg60R6Bhvkw",
        "outputId": "015f42b1-264e-4feb-af6c-f075305ef9b4"
      },
      "outputs": [
        {
          "output_type": "stream",
          "name": "stdout",
          "text": [
            "Found 1574 images belonging to 5 classes.\n"
          ]
        }
      ],
      "source": [
        "testDir = '/content/drive/MyDrive/dataset4/test'\n",
        "test_set = data_generator.flow_from_directory(\n",
        "    testDir,\n",
        "    target_size=(image_size, image_size),\n",
        "    batch_size=600,\n",
        "    class_mode='categorical'\n",
        "    )"
      ]
    },
    {
      "cell_type": "code",
      "execution_count": null,
      "metadata": {
        "colab": {
          "base_uri": "https://localhost:8080/"
        },
        "id": "043D3jMthvnW",
        "outputId": "ccf964bd-d0fc-4031-9025-1b7dbc388762"
      },
      "outputs": [
        {
          "output_type": "execute_result",
          "data": {
            "text/plain": [
              "600"
            ]
          },
          "metadata": {},
          "execution_count": 7
        }
      ],
      "source": [
        "x_test, y_test = next(test_set)\n",
        "len(x_test)"
      ]
    },
    {
      "cell_type": "code",
      "execution_count": null,
      "metadata": {
        "colab": {
          "base_uri": "https://localhost:8080/"
        },
        "id": "-Ts7FYLwhvpp",
        "outputId": "e575248c-bafb-4f20-8e9f-bdd010a41328"
      },
      "outputs": [
        {
          "output_type": "stream",
          "name": "stdout",
          "text": [
            "x_train (5000, 224, 224, 3)\n",
            "y_train (5000, 5)\n",
            "x_test (600, 224, 224, 3)\n",
            "y_test (600, 5)\n"
          ]
        }
      ],
      "source": [
        "print('x_train', x_train.shape)\n",
        "print('y_train', y_train.shape)\n",
        "print('x_test', x_test.shape)\n",
        "print('y_test', y_test.shape)"
      ]
    },
    {
      "cell_type": "code",
      "execution_count": null,
      "metadata": {
        "colab": {
          "base_uri": "https://localhost:8080/"
        },
        "id": "llKBLOzohvsV",
        "outputId": "d4b25b2d-2921-48eb-fc2c-666b7b59b7f8"
      },
      "outputs": [
        {
          "output_type": "stream",
          "name": "stdout",
          "text": [
            "Downloading data from https://storage.googleapis.com/tensorflow/keras-applications/resnet/resnet50_weights_tf_dim_ordering_tf_kernels_notop.h5\n",
            "94765736/94765736 [==============================] - 1s 0us/step\n"
          ]
        }
      ],
      "source": [
        "# importa o modelo ResNet50 e descarta a última camada do classifier.\n",
        "base_model=ResNet50(weights='imagenet',include_top=False, input_shape=(image_size, image_size, 3))"
      ]
    },
    {
      "cell_type": "code",
      "execution_count": null,
      "metadata": {
        "id": "GDfRXJHYhvu-"
      },
      "outputs": [],
      "source": [
        "for layer in base_model.layers:\n",
        "    layer.trainable = False"
      ]
    },
    {
      "cell_type": "code",
      "execution_count": null,
      "metadata": {
        "colab": {
          "base_uri": "https://localhost:8080/"
        },
        "id": "Ih9mhgTbhvxE",
        "outputId": "20a951c0-fc0a-4f0d-effe-489d659ec50b"
      },
      "outputs": [
        {
          "output_type": "stream",
          "name": "stdout",
          "text": [
            "(None, 7, 7, 2048)\n"
          ]
        }
      ],
      "source": [
        "last_layer = base_model.get_layer('conv5_block3_out')\n",
        "print(last_layer.output_shape)"
      ]
    },
    {
      "cell_type": "code",
      "execution_count": null,
      "metadata": {
        "id": "WAPvlTcQhv0H"
      },
      "outputs": [],
      "source": [
        "x = Flatten()(last_layer.output)\n",
        "x = Dense(1024, activation = 'relu')(x)\n",
        "x = Dropout(0.5)(x)\n",
        "x = Dense(5, activation = 'softmax')(x)\n",
        "model = Model(base_model.input, x)"
      ]
    },
    {
      "cell_type": "code",
      "execution_count": null,
      "metadata": {
        "colab": {
          "base_uri": "https://localhost:8080/"
        },
        "id": "OEnk2Vu_hv16",
        "outputId": "711fc91e-4088-405c-e88a-6580dbde7ee7"
      },
      "outputs": [
        {
          "output_type": "stream",
          "name": "stderr",
          "text": [
            "/usr/local/lib/python3.7/dist-packages/keras/optimizers/optimizer_v2/adam.py:110: UserWarning: The `lr` argument is deprecated, use `learning_rate` instead.\n",
            "  super(Adam, self).__init__(name, **kwargs)\n"
          ]
        }
      ],
      "source": [
        "optimizer = Adam(lr=1e-6)\n",
        "model.compile(optimizer=optimizer, loss='categorical_crossentropy', metrics=['accuracy'])"
      ]
    },
    {
      "cell_type": "code",
      "execution_count": null,
      "metadata": {
        "id": "bTIaSdKfhv4l"
      },
      "outputs": [],
      "source": [
        "train_datagen=ImageDataGenerator(preprocessing_function = preprocess_input) \n",
        "\n",
        "validation_datagen = ImageDataGenerator(preprocessing_function = preprocess_input)"
      ]
    },
    {
      "cell_type": "code",
      "execution_count": null,
      "metadata": {
        "colab": {
          "base_uri": "https://localhost:8080/"
        },
        "id": "DvUezzjRhv7J",
        "outputId": "11402273-b36b-47c7-e843-983458503547"
      },
      "outputs": [
        {
          "output_type": "stream",
          "name": "stdout",
          "text": [
            "Epoch 1/20\n",
            "3/3 [==============================] - 340s 156s/step - loss: 192.8129 - accuracy: 0.2444 - val_loss: 156.4615 - val_accuracy: 0.2553\n",
            "Epoch 2/20\n",
            "3/3 [==============================] - 334s 155s/step - loss: 110.4363 - accuracy: 0.3306 - val_loss: 69.1044 - val_accuracy: 0.3107\n",
            "Epoch 3/20\n",
            "3/3 [==============================] - 333s 156s/step - loss: 57.8902 - accuracy: 0.4417 - val_loss: 51.5195 - val_accuracy: 0.5093\n",
            "Epoch 4/20\n",
            "3/3 [==============================] - 332s 155s/step - loss: 38.5951 - accuracy: 0.5972 - val_loss: 23.2988 - val_accuracy: 0.6300\n",
            "Epoch 5/20\n",
            "3/3 [==============================] - 332s 155s/step - loss: 29.9751 - accuracy: 0.5750 - val_loss: 19.2527 - val_accuracy: 0.6233\n",
            "Epoch 6/20\n",
            "3/3 [==============================] - 331s 155s/step - loss: 23.7552 - accuracy: 0.6250 - val_loss: 13.8096 - val_accuracy: 0.7000\n",
            "Epoch 7/20\n",
            "3/3 [==============================] - 330s 154s/step - loss: 14.1762 - accuracy: 0.7194 - val_loss: 13.7723 - val_accuracy: 0.6860\n",
            "Epoch 8/20\n",
            "3/3 [==============================] - 334s 155s/step - loss: 14.9548 - accuracy: 0.6444 - val_loss: 9.3896 - val_accuracy: 0.7340\n",
            "Epoch 9/20\n",
            "3/3 [==============================] - 331s 154s/step - loss: 10.3768 - accuracy: 0.6667 - val_loss: 4.9341 - val_accuracy: 0.7527\n",
            "Epoch 10/20\n",
            "3/3 [==============================] - 310s 144s/step - loss: 8.0050 - accuracy: 0.7115 - val_loss: 4.7698 - val_accuracy: 0.7260\n",
            "Epoch 11/20\n",
            "3/3 [==============================] - 325s 152s/step - loss: 4.4491 - accuracy: 0.7361 - val_loss: 3.5292 - val_accuracy: 0.7753\n",
            "Epoch 12/20\n",
            "3/3 [==============================] - 329s 153s/step - loss: 3.2408 - accuracy: 0.7944 - val_loss: 3.3505 - val_accuracy: 0.7827\n",
            "Epoch 13/20\n",
            "3/3 [==============================] - 328s 153s/step - loss: 2.7433 - accuracy: 0.8056 - val_loss: 2.4060 - val_accuracy: 0.7907\n",
            "Epoch 14/20\n",
            "3/3 [==============================] - 329s 154s/step - loss: 2.1993 - accuracy: 0.7917 - val_loss: 1.8742 - val_accuracy: 0.7933\n",
            "Epoch 15/20\n",
            "3/3 [==============================] - 327s 153s/step - loss: 1.7224 - accuracy: 0.8250 - val_loss: 1.7358 - val_accuracy: 0.7900\n",
            "Epoch 16/20\n",
            "3/3 [==============================] - 331s 153s/step - loss: 1.3609 - accuracy: 0.8167 - val_loss: 1.5736 - val_accuracy: 0.7873\n",
            "Epoch 17/20\n",
            "3/3 [==============================] - 328s 153s/step - loss: 1.3414 - accuracy: 0.7889 - val_loss: 0.9202 - val_accuracy: 0.8287\n",
            "Epoch 18/20\n",
            "3/3 [==============================] - 327s 153s/step - loss: 0.6572 - accuracy: 0.8278 - val_loss: 0.7081 - val_accuracy: 0.8333\n",
            "Epoch 19/20\n",
            "3/3 [==============================] - 326s 152s/step - loss: 0.6376 - accuracy: 0.8111 - val_loss: 0.6225 - val_accuracy: 0.8293\n",
            "Epoch 20/20\n",
            "3/3 [==============================] - 307s 143s/step - loss: 0.6628 - accuracy: 0.8231 - val_loss: 0.5864 - val_accuracy: 0.8240\n"
          ]
        }
      ],
      "source": [
        "model.compile(loss='categorical_crossentropy',\n",
        "            optimizer = Adam(lr=0.001),\n",
        "            metrics=['accuracy'])\n",
        "hist=model.fit(x_train, y_train, batch_size=120,steps_per_epoch = 3, epochs=20, validation_split=0.3)"
      ]
    },
    {
      "cell_type": "code",
      "execution_count": null,
      "metadata": {
        "id": "VO_dXLQdhv9z",
        "colab": {
          "base_uri": "https://localhost:8080/"
        },
        "outputId": "c220f298-5052-461f-8a48-4469fbc24692"
      },
      "outputs": [
        {
          "output_type": "stream",
          "name": "stdout",
          "text": [
            "157/157 [==============================] - 895s 6s/step - loss: 0.3940 - accuracy: 0.8748\n",
            "정확도=87.5%\n"
          ]
        }
      ],
      "source": [
        "res = model.evaluate(x_train, y_train)\n",
        "print(f'정확도={res[1]*100:.1f}%')"
      ]
    },
    {
      "cell_type": "code",
      "execution_count": null,
      "metadata": {
        "id": "zVBEzHwqhwAG",
        "colab": {
          "base_uri": "https://localhost:8080/"
        },
        "outputId": "939cd7dd-2a46-40af-8902-2185f1ded500"
      },
      "outputs": [
        {
          "output_type": "stream",
          "name": "stdout",
          "text": [
            "19/19 [==============================] - 109s 6s/step - loss: 0.6630 - accuracy: 0.7967\n",
            "정확도=79.7%\n"
          ]
        }
      ],
      "source": [
        "res = model.evaluate(x_test, y_test)\n",
        "print(f'정확도={res[1]*100:.1f}%')"
      ]
    },
    {
      "cell_type": "code",
      "execution_count": null,
      "metadata": {
        "id": "ZE7WcnJuhwCs",
        "colab": {
          "base_uri": "https://localhost:8080/",
          "height": 295
        },
        "outputId": "6c8418cc-087b-4059-b279-066ef5a6c4d0"
      },
      "outputs": [
        {
          "output_type": "display_data",
          "data": {
            "text/plain": [
              "<Figure size 432x288 with 1 Axes>"
            ],
            "image/png": "[encoded data removed]"
          },
          "metadata": {
            "needs_background": "light"
          }
        }
      ],
      "source": [
        "import matplotlib.pyplot as plt\n",
        "\n",
        "plt.plot(hist.history['accuracy'])\n",
        "plt.plot(hist.history['val_accuracy'])\n",
        "plt.title('ResNet50')\n",
        "plt.ylabel('Accuracy')\n",
        "plt.xlabel('Epoch')\n",
        "plt.legend(['Train', 'Validataion'], loc = 'lower right')\n",
        "plt.grid()\n",
        "plt.show()"
      ]
    },
    {
      "cell_type": "code",
      "execution_count": null,
      "metadata": {
        "id": "rdaO2g9vhwFV",
        "colab": {
          "base_uri": "https://localhost:8080/",
          "height": 295
        },
        "outputId": "21926033-d05a-49a8-d1a8-c30ed0d88254"
      },
      "outputs": [
        {
          "output_type": "display_data",
          "data": {
            "text/plain": [
              "<Figure size 432x288 with 1 Axes>"
            ],
            "image/png": "[encoded data removed]"
          },
          "metadata": {
            "needs_background": "light"
          }
        }
      ],
      "source": [
        "plt.plot(hist.history['loss'])\n",
        "plt.plot(hist.history['val_loss'])\n",
        "plt.title('ResNet50')\n",
        "plt.ylabel('Loss')\n",
        "plt.xlabel('Epoch')\n",
        "plt.legend(['Train', 'Validataion'], loc = 'lower right')\n",
        "plt.grid()\n",
        "plt.show()"
      ]
    },
    {
      "cell_type": "code",
      "execution_count": null,
      "metadata": {
        "id": "3_pg23cShwH4"
      },
      "outputs": [],
      "source": [
        "from tensorflow.python.keras.models import load_model\n",
        "model.save('RN50_model.h5')"
      ]
    }
  ],
  "metadata": {
    "colab": {
      "collapsed_sections": [],
      "provenance": []
    },
    "kernelspec": {
      "display_name": "Python 3",
      "name": "python3"
    },
    "language_info": {
      "name": "python"
    }
  },
  "nbformat": 4,
  "nbformat_minor": 0
}