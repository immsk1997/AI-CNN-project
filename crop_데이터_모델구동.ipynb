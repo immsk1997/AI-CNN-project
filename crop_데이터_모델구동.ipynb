{
  "nbformat": 4,
  "nbformat_minor": 0,
  "metadata": {
    "colab": {
      "provenance": []
    },
    "kernelspec": {
      "name": "python3",
      "display_name": "Python 3"
    },
    "language_info": {
      "name": "python"
    }
  },
  "cells": [
    {
      "cell_type": "code",
      "execution_count": 6,
      "metadata": {
        "id": "VyrcbgZ29R_b"
      },
      "outputs": [],
      "source": [
        "import keras\n",
        "from keras.preprocessing.image import ImageDataGenerator\n",
        "from keras.models import Sequential\n",
        "from keras.layers import Dense\n",
        "from keras.applications import vgg16\n",
        "from keras.applications import vgg19\n",
        "from keras.applications.vgg16 import preprocess_input\n",
        "from tensorflow.keras.optimizers import Adam\n",
        "import tensorflow as tf\n",
        "from tensorflow.keras.applications import ResNet101"
      ]
    },
    {
      "cell_type": "code",
      "source": [
        "num_classes = 5\n",
        "image_size = 224"
      ],
      "metadata": {
        "id": "jKSHnKD_9akx"
      },
      "execution_count": 2,
      "outputs": []
    },
    {
      "cell_type": "code",
      "source": [
        "data_generator=ImageDataGenerator(preprocessing_function=preprocess_input)"
      ],
      "metadata": {
        "id": "ka2V2cKX9ano"
      },
      "execution_count": 3,
      "outputs": []
    },
    {
      "cell_type": "code",
      "source": [
        "trainDir = '/content/drive/MyDrive/crop data/crop train'\n",
        "train_set = data_generator.flow_from_directory(\n",
        "    trainDir,\n",
        "    target_size=(image_size, image_size),\n",
        "    batch_size=200,\n",
        "    class_mode='categorical'\n",
        "    )"
      ],
      "metadata": {
        "colab": {
          "base_uri": "https://localhost:8080/"
        },
        "id": "KmMIn5CX9ap-",
        "outputId": "fc7c5a01-ed51-47d6-e9b8-27ddfd693168"
      },
      "execution_count": 4,
      "outputs": [
        {
          "output_type": "stream",
          "name": "stdout",
          "text": [
            "Found 325 images belonging to 5 classes.\n"
          ]
        }
      ]
    },
    {
      "cell_type": "code",
      "source": [
        "x_train, y_train = next(train_set)\n",
        "len(x_train)"
      ],
      "metadata": {
        "colab": {
          "base_uri": "https://localhost:8080/"
        },
        "id": "wEfDo-tF9nuM",
        "outputId": "77dbd2c8-f9c6-4b8d-9ece-2f2d61335c48"
      },
      "execution_count": 5,
      "outputs": [
        {
          "output_type": "execute_result",
          "data": {
            "text/plain": [
              "200"
            ]
          },
          "metadata": {},
          "execution_count": 5
        }
      ]
    },
    {
      "cell_type": "code",
      "source": [
        "testDir = '/content/drive/MyDrive/crop data/crop test'\n",
        "test_set = data_generator.flow_from_directory(\n",
        "    testDir,\n",
        "    target_size=(image_size, image_size),\n",
        "    batch_size=20,\n",
        "    class_mode='categorical'\n",
        "    )"
      ],
      "metadata": {
        "colab": {
          "base_uri": "https://localhost:8080/"
        },
        "id": "xkiiRCr99nwy",
        "outputId": "dc074970-f620-4c95-f6e2-89885870d840"
      },
      "execution_count": 7,
      "outputs": [
        {
          "output_type": "stream",
          "name": "stdout",
          "text": [
            "Found 81 images belonging to 5 classes.\n"
          ]
        }
      ]
    },
    {
      "cell_type": "code",
      "source": [
        "x_test, y_test = next(test_set)\n",
        "len(x_test)"
      ],
      "metadata": {
        "colab": {
          "base_uri": "https://localhost:8080/"
        },
        "id": "RqLEnKqq9nzY",
        "outputId": "7dec0c82-d1f4-4af4-a628-3b6bf6d612be"
      },
      "execution_count": 8,
      "outputs": [
        {
          "output_type": "execute_result",
          "data": {
            "text/plain": [
              "20"
            ]
          },
          "metadata": {},
          "execution_count": 8
        }
      ]
    },
    {
      "cell_type": "code",
      "source": [
        "print('x_train', x_train.shape)\n",
        "print('y_train', y_train.shape)\n",
        "print('x_test', x_test.shape)\n",
        "print('y_test', y_test.shape)"
      ],
      "metadata": {
        "colab": {
          "base_uri": "https://localhost:8080/"
        },
        "id": "BQiPsRaa9n1_",
        "outputId": "db44cd1f-7344-4336-9569-67cbbf519aac"
      },
      "execution_count": 9,
      "outputs": [
        {
          "output_type": "stream",
          "name": "stdout",
          "text": [
            "x_train (200, 224, 224, 3)\n",
            "y_train (200, 5)\n",
            "x_test (20, 224, 224, 3)\n",
            "y_test (20, 5)\n"
          ]
        }
      ]
    },
    {
      "cell_type": "code",
      "source": [
        "model = Sequential()\n",
        "model.add(vgg16.VGG16(include_top=False, pooling='avg', weights='imagenet',))"
      ],
      "metadata": {
        "colab": {
          "base_uri": "https://localhost:8080/"
        },
        "id": "BGRaREbQ9n42",
        "outputId": "6dfcc125-1b40-4645-e063-d12d7d6f664a"
      },
      "execution_count": 10,
      "outputs": [
        {
          "output_type": "stream",
          "name": "stdout",
          "text": [
            "Downloading data from https://storage.googleapis.com/tensorflow/keras-applications/vgg16/vgg16_weights_tf_dim_ordering_tf_kernels_notop.h5\n",
            "58889256/58889256 [==============================] - 0s 0us/step\n"
          ]
        }
      ]
    },
    {
      "cell_type": "code",
      "source": [
        "model.add(Dense(num_classes,activation='softmax'))\n",
        "model.layers[0].layers"
      ],
      "metadata": {
        "colab": {
          "base_uri": "https://localhost:8080/"
        },
        "id": "JBxAoy-09n7M",
        "outputId": "c5c9794b-f1de-4e97-af92-87ab97909734"
      },
      "execution_count": 10,
      "outputs": [
        {
          "output_type": "execute_result",
          "data": {
            "text/plain": [
              "[<keras.engine.input_layer.InputLayer at 0x7febf600cf90>,\n",
              " <keras.layers.convolutional.conv2d.Conv2D at 0x7feb8971df50>,\n",
              " <keras.layers.convolutional.conv2d.Conv2D at 0x7feb89740450>,\n",
              " <keras.layers.pooling.max_pooling2d.MaxPooling2D at 0x7feb89740990>,\n",
              " <keras.layers.convolutional.conv2d.Conv2D at 0x7feb8963fc90>,\n",
              " <keras.layers.convolutional.conv2d.Conv2D at 0x7feb89743850>,\n",
              " <keras.layers.pooling.max_pooling2d.MaxPooling2D at 0x7feb89738ed0>,\n",
              " <keras.layers.convolutional.conv2d.Conv2D at 0x7feb895e0490>,\n",
              " <keras.layers.convolutional.conv2d.Conv2D at 0x7feb895e02d0>,\n",
              " <keras.layers.convolutional.conv2d.Conv2D at 0x7feb89738590>,\n",
              " <keras.layers.pooling.max_pooling2d.MaxPooling2D at 0x7feb895edc90>,\n",
              " <keras.layers.convolutional.conv2d.Conv2D at 0x7feb895e9b90>,\n",
              " <keras.layers.convolutional.conv2d.Conv2D at 0x7feb895e9690>,\n",
              " <keras.layers.convolutional.conv2d.Conv2D at 0x7feb895db750>,\n",
              " <keras.layers.pooling.max_pooling2d.MaxPooling2D at 0x7feb89605fd0>,\n",
              " <keras.layers.convolutional.conv2d.Conv2D at 0x7feb896057d0>,\n",
              " <keras.layers.convolutional.conv2d.Conv2D at 0x7feb895fa050>,\n",
              " <keras.layers.convolutional.conv2d.Conv2D at 0x7feb8960a550>,\n",
              " <keras.layers.pooling.max_pooling2d.MaxPooling2D at 0x7feb8958df50>,\n",
              " <keras.layers.pooling.global_average_pooling2d.GlobalAveragePooling2D at 0x7feb895e5f10>]"
            ]
          },
          "metadata": {},
          "execution_count": 10
        }
      ]
    },
    {
      "cell_type": "code",
      "source": [
        "# 증강 x (crop data vgg16)\n",
        "model.compile(loss='categorical_crossentropy',\n",
        "            optimizer = Adam(lr=0.001),\n",
        "            metrics=['accuracy'])\n",
        "hist=model.fit(x_train, y_train, batch_size=50, epochs=10, validation_split=0.3)"
      ],
      "metadata": {
        "colab": {
          "base_uri": "https://localhost:8080/"
        },
        "id": "Za30aAj59n9z",
        "outputId": "e01f94a3-0586-4664-9b4e-38bdcbcca02e"
      },
      "execution_count": 11,
      "outputs": [
        {
          "metadata": {
            "tags": null
          },
          "name": "stderr",
          "output_type": "stream",
          "text": [
            "/usr/local/lib/python3.7/dist-packages/keras/optimizers/optimizer_v2/adam.py:110: UserWarning: The `lr` argument is deprecated, use `learning_rate` instead.\n",
            "  super(Adam, self).__init__(name, **kwargs)\n"
          ]
        },
        {
          "output_type": "stream",
          "name": "stdout",
          "text": [
            "Epoch 1/10\n",
            "3/3 [==============================] - 271s 91s/step - loss: 55.7449 - accuracy: 0.2857 - val_loss: 78.4298 - val_accuracy: 0.0333\n",
            "Epoch 2/10\n",
            "3/3 [==============================] - 273s 93s/step - loss: 117.5299 - accuracy: 0.2357 - val_loss: 1.4859 - val_accuracy: 0.2333\n",
            "Epoch 3/10\n",
            "3/3 [==============================] - 264s 90s/step - loss: 1.4797 - accuracy: 0.2143 - val_loss: 2.9465 - val_accuracy: 0.4000\n",
            "Epoch 4/10\n",
            "3/3 [==============================] - 266s 90s/step - loss: 5.4379 - accuracy: 0.2357 - val_loss: 1.4258 - val_accuracy: 0.3333\n",
            "Epoch 5/10\n",
            "3/3 [==============================] - 271s 91s/step - loss: 1.4567 - accuracy: 0.3286 - val_loss: 1.9295 - val_accuracy: 0.2333\n",
            "Epoch 6/10\n",
            "3/3 [==============================] - 264s 90s/step - loss: 1.5457 - accuracy: 0.3000 - val_loss: 1.3646 - val_accuracy: 0.3333\n",
            "Epoch 7/10\n",
            "3/3 [==============================] - 270s 91s/step - loss: 1.4510 - accuracy: 0.2357 - val_loss: 1.3918 - val_accuracy: 0.2333\n",
            "Epoch 8/10\n",
            "3/3 [==============================] - 266s 90s/step - loss: 1.4226 - accuracy: 0.2714 - val_loss: 1.2852 - val_accuracy: 0.4000\n",
            "Epoch 9/10\n",
            "3/3 [==============================] - 265s 91s/step - loss: 1.3516 - accuracy: 0.2786 - val_loss: 1.2637 - val_accuracy: 0.3333\n",
            "Epoch 10/10\n",
            "3/3 [==============================] - 263s 89s/step - loss: 1.3728 - accuracy: 0.2357 - val_loss: 1.2340 - val_accuracy: 0.4000\n"
          ]
        }
      ]
    },
    {
      "cell_type": "code",
      "source": [
        "res = model.evaluate(x_train, y_train)\n",
        "print(f'정확도={res[1]*100:.1f}%')"
      ],
      "metadata": {
        "id": "jj7Bs2-6r6Mq"
      },
      "execution_count": null,
      "outputs": []
    },
    {
      "cell_type": "code",
      "source": [
        "res = model.evaluate(x_test, y_test)\n",
        "print(f'정확도={res[1]*100:.1f}%')"
      ],
      "metadata": {
        "id": "IJY8rsPpr7Z5"
      },
      "execution_count": null,
      "outputs": []
    },
    {
      "cell_type": "code",
      "source": [
        "import matplotlib.pyplot as plt\n",
        "\n",
        "plt.plot(hist.history['accuracy'])\n",
        "plt.plot(hist.history['val_accuracy'])\n",
        "plt.title('VGG16')\n",
        "plt.ylabel('Accuracy')\n",
        "plt.xlabel('Epoch')\n",
        "plt.legend(['Train', 'Validataion'], loc = 'lower right')\n",
        "plt.grid()\n",
        "plt.show()"
      ],
      "metadata": {
        "colab": {
          "base_uri": "https://localhost:8080/",
          "height": 295
        },
        "id": "GJwLXWnj9oAZ",
        "outputId": "8dcd1d82-2a86-4b83-92ed-46831da99ad0"
      },
      "execution_count": 14,
      "outputs": [
        {
          "output_type": "display_data",
          "data": {
            "text/plain": [
              "<Figure size 432x288 with 1 Axes>"
            ],
            "image/png": "[encoded data removed]"
          },
          "metadata": {
            "needs_background": "light"
          }
        }
      ]
    },
    {
      "cell_type": "code",
      "source": [
        "model5 = Sequential()\n",
        "model5.add(vgg19.VGG19(include_top=False, pooling='avg', weights='imagenet',))"
      ],
      "metadata": {
        "colab": {
          "base_uri": "https://localhost:8080/"
        },
        "id": "c1mye85k9oDU",
        "outputId": "fc0f10e5-87cd-4a78-810a-a6a2700caed7"
      },
      "execution_count": 11,
      "outputs": [
        {
          "output_type": "stream",
          "name": "stdout",
          "text": [
            "Downloading data from https://storage.googleapis.com/tensorflow/keras-applications/vgg19/vgg19_weights_tf_dim_ordering_tf_kernels_notop.h5\n",
            "80134624/80134624 [==============================] - 0s 0us/step\n"
          ]
        }
      ]
    },
    {
      "cell_type": "code",
      "source": [
        "model5.add(Dense(num_classes,activation='softmax'))\n",
        "model5.layers[0].layers"
      ],
      "metadata": {
        "colab": {
          "base_uri": "https://localhost:8080/"
        },
        "id": "KC8vrwCo9oFm",
        "outputId": "9773121e-63cf-4615-f890-0d08521851fb"
      },
      "execution_count": 12,
      "outputs": [
        {
          "output_type": "execute_result",
          "data": {
            "text/plain": [
              "[<keras.engine.input_layer.InputLayer at 0x7f37ebcb0dd0>,\n",
              " <keras.layers.convolutional.conv2d.Conv2D at 0x7f37ebdf4810>,\n",
              " <keras.layers.convolutional.conv2d.Conv2D at 0x7f37ebdf4fd0>,\n",
              " <keras.layers.pooling.max_pooling2d.MaxPooling2D at 0x7f37eb7e4110>,\n",
              " <keras.layers.convolutional.conv2d.Conv2D at 0x7f37eb7f2710>,\n",
              " <keras.layers.convolutional.conv2d.Conv2D at 0x7f37ebdee210>,\n",
              " <keras.layers.pooling.max_pooling2d.MaxPooling2D at 0x7f37eb77d710>,\n",
              " <keras.layers.convolutional.conv2d.Conv2D at 0x7f37eb78af50>,\n",
              " <keras.layers.convolutional.conv2d.Conv2D at 0x7f37eb78ae50>,\n",
              " <keras.layers.convolutional.conv2d.Conv2D at 0x7f37eb7f23d0>,\n",
              " <keras.layers.convolutional.conv2d.Conv2D at 0x7f37ebdeed10>,\n",
              " <keras.layers.pooling.max_pooling2d.MaxPooling2D at 0x7f37eb78e190>,\n",
              " <keras.layers.convolutional.conv2d.Conv2D at 0x7f37ebdf0d10>,\n",
              " <keras.layers.convolutional.conv2d.Conv2D at 0x7f37eb7973d0>,\n",
              " <keras.layers.convolutional.conv2d.Conv2D at 0x7f37eb79de90>,\n",
              " <keras.layers.convolutional.conv2d.Conv2D at 0x7f37eb7acc10>,\n",
              " <keras.layers.pooling.max_pooling2d.MaxPooling2D at 0x7f37eb7b3450>,\n",
              " <keras.layers.convolutional.conv2d.Conv2D at 0x7f37eb7b7b50>,\n",
              " <keras.layers.convolutional.conv2d.Conv2D at 0x7f37eb73cf90>,\n",
              " <keras.layers.convolutional.conv2d.Conv2D at 0x7f37eb73ce90>,\n",
              " <keras.layers.convolutional.conv2d.Conv2D at 0x7f37eb7a2f10>,\n",
              " <keras.layers.pooling.max_pooling2d.MaxPooling2D at 0x7f37eb74b3d0>,\n",
              " <keras.layers.pooling.global_average_pooling2d.GlobalAveragePooling2D at 0x7f37eb7b7e10>]"
            ]
          },
          "metadata": {},
          "execution_count": 12
        }
      ]
    },
    {
      "cell_type": "code",
      "source": [
        "# 증강 x (crop data vgg19)\n",
        "model5.compile(loss='categorical_crossentropy',\n",
        "            optimizer = Adam(lr=0.001),\n",
        "            metrics=['accuracy'])\n",
        "hist1=model5.fit(x_train, y_train, batch_size=50, epochs=10, validation_split=0.3)"
      ],
      "metadata": {
        "id": "a2HlmXXfObax",
        "outputId": "110f7989-228d-4b00-a980-41e0f59f54ea",
        "colab": {
          "base_uri": "https://localhost:8080/"
        }
      },
      "execution_count": 13,
      "outputs": [
        {
          "metadata": {
            "tags": null
          },
          "name": "stdout",
          "output_type": "stream",
          "text": [
            "Epoch 1/10\n"
          ]
        },
        {
          "metadata": {
            "tags": null
          },
          "name": "stderr",
          "output_type": "stream",
          "text": [
            "/usr/local/lib/python3.7/dist-packages/keras/optimizers/optimizer_v2/adam.py:110: UserWarning: The `lr` argument is deprecated, use `learning_rate` instead.\n",
            "  super(Adam, self).__init__(name, **kwargs)\n"
          ]
        },
        {
          "output_type": "stream",
          "name": "stdout",
          "text": [
            "3/3 [==============================] - 252s 86s/step - loss: 658.9071 - accuracy: 0.1929 - val_loss: 10.0003 - val_accuracy: 0.3167\n",
            "Epoch 2/10\n",
            "3/3 [==============================] - 250s 85s/step - loss: 5.0412 - accuracy: 0.3071 - val_loss: 1.9463 - val_accuracy: 0.3167\n",
            "Epoch 3/10\n",
            "3/3 [==============================] - 258s 89s/step - loss: 4.8393 - accuracy: 0.2857 - val_loss: 3.2409 - val_accuracy: 0.3167\n",
            "Epoch 4/10\n",
            "3/3 [==============================] - 257s 88s/step - loss: 2.2295 - accuracy: 0.3000 - val_loss: 1.5249 - val_accuracy: 0.3333\n",
            "Epoch 5/10\n",
            "3/3 [==============================] - 263s 91s/step - loss: 1.5143 - accuracy: 0.2929 - val_loss: 1.4973 - val_accuracy: 0.3500\n",
            "Epoch 6/10\n",
            "3/3 [==============================] - 256s 87s/step - loss: 1.6619 - accuracy: 0.3071 - val_loss: 1.5210 - val_accuracy: 0.3167\n",
            "Epoch 7/10\n",
            "3/3 [==============================] - 253s 87s/step - loss: 1.4729 - accuracy: 0.3214 - val_loss: 1.2512 - val_accuracy: 0.3167\n",
            "Epoch 8/10\n",
            "3/3 [==============================] - 255s 86s/step - loss: 1.3276 - accuracy: 0.3357 - val_loss: 1.2275 - val_accuracy: 0.3167\n",
            "Epoch 9/10\n",
            "3/3 [==============================] - 251s 86s/step - loss: 1.3187 - accuracy: 0.3429 - val_loss: 1.2271 - val_accuracy: 0.4000\n",
            "Epoch 10/10\n",
            "3/3 [==============================] - 254s 87s/step - loss: 1.3067 - accuracy: 0.3929 - val_loss: 1.2221 - val_accuracy: 0.4167\n"
          ]
        }
      ]
    },
    {
      "cell_type": "code",
      "source": [
        "import matplotlib.pyplot as plt\n",
        "\n",
        "plt.plot(hist1.history['accuracy'])\n",
        "plt.plot(hist1.history['val_accuracy'])\n",
        "plt.title('VGG19')\n",
        "plt.ylabel('Accuracy')\n",
        "plt.xlabel('Epoch')\n",
        "plt.legend(['Train', 'Validataion'], loc = 'lower right')\n",
        "plt.grid()\n",
        "plt.show()"
      ],
      "metadata": {
        "colab": {
          "base_uri": "https://localhost:8080/",
          "height": 295
        },
        "id": "NN_63Yqf-PXZ",
        "outputId": "f607a672-ebc1-42ad-cd70-e2b1b029dfb8"
      },
      "execution_count": 14,
      "outputs": [
        {
          "output_type": "display_data",
          "data": {
            "text/plain": [
              "<Figure size 432x288 with 1 Axes>"
            ],
            "image/png": "[encoded data removed]"
          },
          "metadata": {
            "needs_background": "light"
          }
        }
      ]
    },
    {
      "cell_type": "code",
      "source": [
        "import numpy as np\n",
        "from tensorflow.keras.applications.resnet50 import ResNet50, preprocess_input, decode_predictions\n",
        "from tensorflow.keras.preprocessing.image import load_img, img_to_array"
      ],
      "metadata": {
        "id": "O04SGYr--SgL"
      },
      "execution_count": 25,
      "outputs": []
    },
    {
      "cell_type": "code",
      "source": [
        "# ResNet50 모델 선언\n",
        "model1 = ResNet50(include_top=True, weights=None, input_shape=(224, 224, 3), pooling=max, classes=5) # 클래스는 맞춰서 변경요망"
      ],
      "metadata": {
        "id": "pQhKBCwL-U_k"
      },
      "execution_count": 26,
      "outputs": []
    },
    {
      "cell_type": "code",
      "source": [
        "# ResNet50 모델 학습 및 구현(crop data)\n",
        "model1.compile(loss='categorical_crossentropy', metrics=['accuracy'],optimizer='adam')\n",
        "hist2 = model1.fit(x_train,y_train,batch_size=100, epochs=10, validation_split=(0.3))"
      ],
      "metadata": {
        "colab": {
          "base_uri": "https://localhost:8080/"
        },
        "id": "ubqe1tjB-Xpn",
        "outputId": "4aaf8705-caef-42ff-da82-ae6bc75e18bf"
      },
      "execution_count": 27,
      "outputs": [
        {
          "output_type": "stream",
          "name": "stdout",
          "text": [
            "Epoch 1/10\n",
            "2/2 [==============================] - 105s 34s/step - loss: 5.0706 - accuracy: 0.0500 - val_loss: 9.9058 - val_accuracy: 0.5167\n",
            "Epoch 2/10\n",
            "2/2 [==============================] - 103s 36s/step - loss: 3.8692 - accuracy: 0.4071 - val_loss: 26.3719 - val_accuracy: 0.2167\n",
            "Epoch 3/10\n",
            "2/2 [==============================] - 96s 33s/step - loss: 3.0259 - accuracy: 0.3714 - val_loss: 11.3402 - val_accuracy: 0.0667\n",
            "Epoch 4/10\n",
            "2/2 [==============================] - 97s 33s/step - loss: 3.0387 - accuracy: 0.4214 - val_loss: 10.1678 - val_accuracy: 0.0667\n",
            "Epoch 5/10\n",
            "2/2 [==============================] - 98s 35s/step - loss: 1.0935 - accuracy: 0.6143 - val_loss: 13.2665 - val_accuracy: 0.0667\n",
            "Epoch 6/10\n",
            "2/2 [==============================] - 96s 33s/step - loss: 0.7221 - accuracy: 0.7643 - val_loss: 12.5242 - val_accuracy: 0.0667\n",
            "Epoch 7/10\n",
            "2/2 [==============================] - 97s 33s/step - loss: 0.7357 - accuracy: 0.7929 - val_loss: 13.5829 - val_accuracy: 0.2000\n",
            "Epoch 8/10\n",
            "2/2 [==============================] - 100s 35s/step - loss: 0.4206 - accuracy: 0.8714 - val_loss: 16.5783 - val_accuracy: 0.2000\n",
            "Epoch 9/10\n",
            "2/2 [==============================] - 97s 33s/step - loss: 0.3001 - accuracy: 0.8857 - val_loss: 18.3642 - val_accuracy: 0.2000\n",
            "Epoch 10/10\n",
            "2/2 [==============================] - 98s 33s/step - loss: 0.1471 - accuracy: 0.9571 - val_loss: 18.8378 - val_accuracy: 0.2000\n"
          ]
        }
      ]
    },
    {
      "cell_type": "code",
      "source": [
        "import matplotlib.pyplot as plt\n",
        "\n",
        "plt.plot(hist2.history['accuracy'])\n",
        "plt.plot(hist2.history['val_accuracy'])\n",
        "plt.title('RESNET 50')\n",
        "plt.ylabel('Accuracy')\n",
        "plt.xlabel('Epoch')\n",
        "plt.legend(['Train', 'Validataion'], loc = 'lower right')\n",
        "plt.grid()\n",
        "plt.show()"
      ],
      "metadata": {
        "colab": {
          "base_uri": "https://localhost:8080/",
          "height": 295
        },
        "id": "x74HB5w_-Z67",
        "outputId": "de6c458a-f6bc-4093-a0e0-e060810aeff8"
      },
      "execution_count": 28,
      "outputs": [
        {
          "output_type": "display_data",
          "data": {
            "text/plain": [
              "<Figure size 432x288 with 1 Axes>"
            ],
            "image/png": "[encoded data removed]"
          },
          "metadata": {
            "needs_background": "light"
          }
        }
      ]
    },
    {
      "cell_type": "code",
      "source": [
        "# resnet101\n",
        "model2 = ResNet101(include_top=True, weights=None, input_shape=(224, 224, 3), pooling=max, classes=5) # 클래스는 맞춰서 변경요망"
      ],
      "metadata": {
        "id": "gIsKcHR9-dFg"
      },
      "execution_count": 15,
      "outputs": []
    },
    {
      "cell_type": "code",
      "source": [
        "# ResNet 101 모델 학습 및 구현(crop data)\n",
        "model2.compile(loss='categorical_crossentropy', metrics=['accuracy'],optimizer='adam')\n",
        "hist3 = model2.fit(x_train,y_train,batch_size=50, epochs=10, validation_split=(0.3))"
      ],
      "metadata": {
        "colab": {
          "base_uri": "https://localhost:8080/"
        },
        "id": "vs4nW3mC-fKm",
        "outputId": "6dbee864-2495-4b0b-be8a-a4e7d40a420b"
      },
      "execution_count": 16,
      "outputs": [
        {
          "output_type": "stream",
          "name": "stdout",
          "text": [
            "Epoch 1/10\n",
            "3/3 [==============================] - 164s 47s/step - loss: 4.5001 - accuracy: 0.3071 - val_loss: 9178.1260 - val_accuracy: 0.3167\n",
            "Epoch 2/10\n",
            "3/3 [==============================] - 135s 46s/step - loss: 2.8913 - accuracy: 0.3214 - val_loss: 33235.8242 - val_accuracy: 0.3167\n",
            "Epoch 3/10\n",
            "3/3 [==============================] - 133s 45s/step - loss: 1.2157 - accuracy: 0.4714 - val_loss: 80639.8047 - val_accuracy: 0.3167\n",
            "Epoch 4/10\n",
            "3/3 [==============================] - 131s 44s/step - loss: 0.8010 - accuracy: 0.6714 - val_loss: 94320.4062 - val_accuracy: 0.3167\n",
            "Epoch 5/10\n",
            "3/3 [==============================] - 137s 47s/step - loss: 0.5331 - accuracy: 0.8143 - val_loss: 133190.3438 - val_accuracy: 0.3167\n",
            "Epoch 6/10\n",
            "3/3 [==============================] - 135s 45s/step - loss: 0.3932 - accuracy: 0.8857 - val_loss: 51421.5430 - val_accuracy: 0.3167\n",
            "Epoch 7/10\n",
            "3/3 [==============================] - 130s 44s/step - loss: 0.3633 - accuracy: 0.9214 - val_loss: 24766.5117 - val_accuracy: 0.3167\n",
            "Epoch 8/10\n",
            "3/3 [==============================] - 128s 43s/step - loss: 0.2107 - accuracy: 0.9357 - val_loss: 22290.2539 - val_accuracy: 0.3167\n",
            "Epoch 9/10\n",
            "3/3 [==============================] - 134s 45s/step - loss: 0.1401 - accuracy: 0.9500 - val_loss: 17783.0312 - val_accuracy: 0.3167\n",
            "Epoch 10/10\n",
            "3/3 [==============================] - 142s 49s/step - loss: 0.0943 - accuracy: 0.9786 - val_loss: 8749.6123 - val_accuracy: 0.3167\n"
          ]
        }
      ]
    },
    {
      "cell_type": "code",
      "source": [
        "import matplotlib.pyplot as plt\n",
        "\n",
        "plt.plot(hist3.history['accuracy'])\n",
        "plt.plot(hist3.history['val_accuracy'])\n",
        "plt.title('RESNET 101')\n",
        "plt.ylabel('Accuracy')\n",
        "plt.xlabel('Epoch')\n",
        "plt.legend(['Train', 'Validataion'], loc = 'lower right')\n",
        "plt.grid()\n",
        "plt.show()"
      ],
      "metadata": {
        "colab": {
          "base_uri": "https://localhost:8080/",
          "height": 295
        },
        "id": "NLpUqZjM-hRw",
        "outputId": "553b89ea-136d-49a4-d829-478e82c32980"
      },
      "execution_count": 17,
      "outputs": [
        {
          "output_type": "display_data",
          "data": {
            "text/plain": [
              "<Figure size 432x288 with 1 Axes>"
            ],
            "image/png": "[encoded data removed]"
          },
          "metadata": {
            "needs_background": "light"
          }
        }
      ]
    },
    {
      "cell_type": "code",
      "source": [],
      "metadata": {
        "id": "CutsyXqqj2NO"
      },
      "execution_count": null,
      "outputs": []
    }
  ]
}