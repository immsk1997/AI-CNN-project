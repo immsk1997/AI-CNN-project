{
  "cells": [
    {
      "cell_type": "code",
      "execution_count": null,
      "metadata": {
        "id": "uALpNsve6mAG"
      },
      "outputs": [],
      "source": [
        "# xml 파싱\n",
        "import xml.etree.ElementTree as ET\n",
        "import os\n",
        "# 이미지 블러처리\n",
        "from PIL import Image"
      ]
    },
    {
      "cell_type": "code",
      "execution_count": null,
      "metadata": {
        "id": "STknflR_6psS"
      },
      "outputs": [],
      "source": [
        "dataFile_p = '/content/drive/MyDrive/불량판정 프로젝트/2번 카메라 데이터/사진'\n",
        "dataFile_t = '/content/drive/MyDrive/불량판정 프로젝트/2번 카메라 데이터/설명'   \n",
        "\n",
        "class0File = ''   \n",
        "class1File = ''\n",
        "class2File = ''\n",
        "class3File = ''"
      ]
    },
    {
      "cell_type": "code",
      "execution_count": null,
      "metadata": {
        "colab": {
          "base_uri": "https://localhost:8080/"
        },
        "id": "Aouyo-Qm6pum",
        "outputId": "0e086761-1c2c-41d0-80b7-68bb8717c439"
      },
      "outputs": [
        {
          "name": "stdout",
          "output_type": "stream",
          "text": [
            "0127_13.jpg\n",
            "0127_4.jpg\n",
            "0127_12.jpg\n",
            "0127_11.jpg\n",
            "0127_1.jpg\n",
            "0127_10.jpg\n",
            "0127_8.jpg\n",
            "0127_16.jpg\n",
            "0127_14.jpg\n",
            "0127_5.jpg\n",
            "0127_15.jpg\n",
            "0127_6.jpg\n",
            "0127_7.jpg\n",
            "0127_3.jpg\n",
            "0127_9.jpg\n",
            "0127_2.jpg\n",
            "0127_18.jpg\n",
            "0127_20.jpg\n",
            "0127_17.jpg\n",
            "0127_19.jpg\n",
            "0203_3.jpg\n",
            "0127_21.jpg\n",
            "0203_1.jpg\n",
            "0127_22.jpg\n",
            "0127_23.jpg\n",
            "0203_2.jpg\n",
            "0127_24.jpg\n",
            "0203_4.jpg\n",
            "0203_5.jpg\n",
            "0203_7.jpg\n",
            "0203_10.jpg\n",
            "2022_0210_1.jpg\n",
            "0203_6.jpg\n",
            "0203_11.jpg\n",
            "0203_8.jpg\n",
            "0203_15.jpg\n",
            "0203_9.jpg\n",
            "0203_14.jpg\n",
            "2022_0210_5.jpg\n",
            "2022_0210_2.jpg\n",
            "0203_12.jpg\n",
            "0203_13.jpg\n",
            "2022_0210_6.jpg\n",
            "2022_0210_3.jpg\n",
            "2022_0210_4.jpg\n",
            "2022_0210_9.jpg\n",
            "2022_0210_8.jpg\n",
            "2022_0210_7.jpg\n",
            "2022_0210_10.jpg\n",
            "2022_0210_11.jpg\n",
            "2022_0210_14.jpg\n",
            "2022_0210_15.jpg\n",
            "2022_0210_16.jpg\n",
            "2022_0210_17.jpg\n",
            "2022_0210_12.jpg\n",
            "2022_0210_20.jpg\n",
            "2022_0210_13.jpg\n",
            "2022_0210_21.jpg\n",
            "2022_0210_28.jpg\n",
            "2022_0210_26.jpg\n",
            "2022_0210_19.jpg\n",
            "2022_0210_18.jpg\n",
            "2022_0210_22.jpg\n",
            "2022_0210_23.jpg\n",
            "2022_0210_24.jpg\n",
            "2022_0210_25.jpg\n",
            "2022_0210_29.jpg\n",
            "2022_0210_30.jpg\n",
            "2022_0210_37.jpg\n",
            "2022_0210_27.jpg\n",
            "2022_0210_32.jpg\n",
            "2022_0210_33.jpg\n",
            "2022_0210_31.jpg\n",
            "2022_0210_43.jpg\n",
            "2022_0210_44.jpg\n",
            "2022_0210_34.jpg\n",
            "2022_0210_36.jpg\n",
            "2022_0210_38.jpg\n",
            "2022_0210_35.jpg\n",
            "2022_0210_41.jpg\n",
            "2022_0210_39.jpg\n",
            "2022_0210_40.jpg\n",
            "2022_0210_42.jpg\n",
            "2022_0210_47.jpg\n",
            "2022_0210_45.jpg\n",
            "2022_0210_51.jpg\n",
            "2022_0210_50.jpg\n",
            "2022_0210_48.jpg\n",
            "2022_0210_49.jpg\n",
            "2022_0210_46.jpg\n",
            "2022_0210_53.jpg\n",
            "2022_0210_52.jpg\n",
            "2022_0210_54.jpg\n",
            "2022_0210_64.jpg\n",
            "2022_0210_60.jpg\n",
            "2022_0210_55.jpg\n",
            "2022_0210_58.jpg\n",
            "2022_0210_57.jpg\n",
            "2022_0210_59.jpg\n",
            "2022_0210_56.jpg\n",
            "2022_0210_62.jpg\n",
            "2022_0210_63.jpg\n",
            "2022_0210_65.jpg\n",
            "2022_0210_61.jpg\n",
            "2022_0210_66.jpg\n",
            "2022_0210_67.jpg\n",
            "2022_0210_68.jpg\n",
            "2022_0210_69.jpg\n",
            "2022_0210_70.jpg\n",
            "2022_0210_71.jpg\n",
            "2022_0210_72.jpg\n",
            "2022_0210_73.jpg\n",
            "2022_0210_74.jpg\n",
            "2022_0210_75.jpg\n",
            "2022_0210_76.jpg\n",
            "2022_0210_77.jpg\n",
            "2022_0210_78.jpg\n",
            "2022_0210_79.jpg\n",
            "2022_0210_81.jpg\n",
            "2022_0210_80.jpg\n",
            "2022_0210_82.jpg\n",
            "2022_0210_83.jpg\n",
            "2022_0210_84.jpg\n",
            "2022_0210_85.jpg\n",
            "2022_0210_86.jpg\n",
            "2022_0210_87.jpg\n",
            "2022_0210_88.jpg\n",
            "2022_0210_89.jpg\n",
            "2022_0210_90.jpg\n",
            "2022_0210_91.jpg\n",
            "2022_0210_92.jpg\n",
            "2022_0210_93.jpg\n",
            "2022_0210_94.jpg\n",
            "2022_0210_95.jpg\n",
            "2022_0210_96.jpg\n",
            "2022_0210_97.jpg\n",
            "2022_0210_99.jpg\n",
            "2022_0210_98.jpg\n",
            "2022_0210_100.jpg\n",
            "2022_0210_101.jpg\n",
            "2022_0210_102.jpg\n",
            "2022_0210_103.jpg\n",
            "2022_0210_104.jpg\n",
            "2022_0210_105.jpg\n",
            "2022_0210_106.jpg\n",
            "2022_0210_109.jpg\n",
            "2022_0210_108.jpg\n",
            "2022_0210_107.jpg\n",
            "2022_0210_110.jpg\n",
            "2022_0210_111.jpg\n",
            "2022_0210_112.jpg\n",
            "2022_0210_113.jpg\n",
            "2022_0210_114.jpg\n",
            "2022_0210_115.jpg\n",
            "2022_0210_116.jpg\n",
            "2022_0210_117.jpg\n",
            "2022_0210_118.jpg\n",
            "2022_0210_119.jpg\n",
            "2022_0210_120.jpg\n",
            "2022_0210_121.jpg\n",
            "2022_0210_122.jpg\n",
            "2022_0210_123.jpg\n",
            "2022_0210_124.jpg\n",
            "2022_0210_125.jpg\n",
            "2022_0210_126.jpg\n",
            "2022_0211_1.jpg\n",
            "2022_0211_2.jpg\n",
            "2022_0211_3.jpg\n",
            "2022_0211_4.jpg\n",
            "2022_0211_5.jpg\n",
            "2022_0211_6.jpg\n",
            "2022_0211_8.jpg\n",
            "2022_0211_7.jpg\n",
            "2022_0211_9.jpg\n",
            "2022_0211_10.jpg\n",
            "2022_0211_11.jpg\n",
            "2022_0211_12.jpg\n",
            "2022_0211_13.jpg\n",
            "2022_0211_14.jpg\n",
            "2022_0211_15.jpg\n",
            "2022_0211_16.jpg\n",
            "2022_0211_17.jpg\n",
            "2022_0211_18.jpg\n",
            "2022_0211_19.jpg\n",
            "2022_0211_20.jpg\n",
            "2022_0211_21.jpg\n",
            "2022_0211_22.jpg\n",
            "2022_0211_23.jpg\n",
            "2022_0211_24.jpg\n",
            "2022_0211_25.jpg\n",
            "2022_0211_26.jpg\n",
            "2022_0211_27.jpg\n",
            "2022_0211_28.jpg\n",
            "2022_0211_29.jpg\n",
            "2022_0211_30.jpg\n",
            "2022_0211_32.jpg\n",
            "2022_0211_33.jpg\n",
            "2022_0211_31.jpg\n",
            "2022_0211_34.jpg\n",
            "2022_0211_35.jpg\n",
            "2022_0211_36.jpg\n",
            "2022_0211_37.jpg\n",
            "2022_0211_38.jpg\n",
            "2022_0211_39.jpg\n",
            "2022_0211_40.jpg\n",
            "2022_0211_41.jpg\n",
            "2022_0211_43.jpg\n",
            "2022_0211_42.jpg\n",
            "2022_0211_44.jpg\n",
            "2022_0211_45.jpg\n",
            "2022_0211_46.jpg\n",
            "2022_0211_47.jpg\n",
            "2022_0211_48.jpg\n",
            "2022_0211_49.jpg\n",
            "2022_0211_50.jpg\n",
            "2022_0211_51.jpg\n",
            "2022_0211_52.jpg\n",
            "2022_0211_53.jpg\n",
            "2022_0211_55.jpg\n",
            "2022_0211_54.jpg\n",
            "2022_0211_56.jpg\n",
            "2022_0211_57.jpg\n",
            "2022_0211_58.jpg\n",
            "2022_0211_59.jpg\n",
            "2022_0211_60.jpg\n",
            "2022_0211_61.jpg\n",
            "2022_0211_62.jpg\n",
            "2022_0211_63.jpg\n",
            "2022_0211_64.jpg\n",
            "2022_0211_65.jpg\n",
            "2022_0211_66.jpg\n",
            "2022_0211_67.jpg\n",
            "2022_0211_68.jpg\n",
            "2022_0211_69.jpg\n",
            "2022_0211_70.jpg\n",
            "2022_0211_71.jpg\n",
            "2022_0211_72.jpg\n",
            "2022_0211_73.jpg\n",
            "2022_0214_1.jpg\n",
            "2022_0214_2.jpg\n",
            "2022_0214_3.jpg\n",
            "2022_0214_4.jpg\n",
            "2022_0214_5.jpg\n",
            "2022_0214_7.jpg\n",
            "2022_0214_6.jpg\n",
            "2022_0214_8.jpg\n",
            "2022_0214_9.jpg\n",
            "2022_0214_10.jpg\n",
            "2022_0214_12.jpg\n",
            "2022_0214_11.jpg\n",
            "2022_0214_13.jpg\n",
            "2022_0214_14.jpg\n",
            "2022_0214_15.jpg\n",
            "2022_0214_17.jpg\n",
            "2022_0214_16.jpg\n",
            "2022_0214_18.jpg\n",
            "2022_0214_19.jpg\n",
            "2022_0214_20.jpg\n",
            "2022_0214_22.jpg\n",
            "2022_0214_21.jpg\n",
            "2022_0214_23.jpg\n",
            "2022_0214_24.jpg\n",
            "2022_0214_25.jpg\n",
            "2022_0214_26.jpg\n",
            "2022_0214_27.jpg\n",
            "2022_0214_28.jpg\n",
            "2022_0214_29.jpg\n",
            ".jpg\n",
            "2022_0214_31.jpg\n",
            "2022_0214_30.jpg\n",
            "2022_0214_32.jpg\n",
            "2022_0214o7.jpg\n",
            "2022_0305_cam34ok_2.jpg\n",
            "2022_0214_33.jpg\n",
            "2022_0214o4.jpg\n",
            "2022_0214o5.jpg\n",
            "2022_0214o3.jpg\n",
            "2022_0214o8.jpg\n",
            "2022_0214o9.jpg\n",
            "2022_0214o2.jpg\n",
            "2022_0214o6.jpg\n",
            "2022_0305_cam34ok_16.jpg\n",
            "2022_0214o1.jpg\n",
            "2022_0214o10.jpg\n",
            "2022_0305_cam34ok_5.jpg\n",
            "2022_0305_cam34ok_11.jpg\n",
            "2022_0305_cam34ok_1.jpg\n",
            "2022_0305_cam34ok_4.jpg\n",
            "2022_0305_cam34ok_8.jpg\n",
            "2022_0305_cam34ok_3.jpg\n",
            "2022_0305_cam34ok_6.jpg\n",
            "2022_0305_cam34ok_15.jpg\n",
            "2022_0305_cam34ok_13.jpg\n",
            "2022_0305_cam34ok_7.jpg\n",
            "2022_0305_cam34ok_14.jpg\n",
            "2022_0305_cam34ok_12.jpg\n",
            "2022_0305_cam34ok_9.jpg\n",
            "2022_0305_cam34ok_10.jpg\n",
            "2022_0305_cam34ok_17.jpg\n",
            "2022_0308_cam34_2.jpg\n",
            "2022_0308_cam34_11.jpg\n",
            "2022_0308_cam34_8.jpg\n",
            "2022_0308_cam34_12.jpg\n",
            "2022_0308_cam34_1.jpg\n",
            "2022_0308_cam34_10.jpg\n",
            "2022_0308_cam34_13.jpg\n",
            "2022_0308_cam34_7.jpg\n",
            "2022_0308_cam34_3.jpg\n",
            "2022_0308_cam34_4.jpg\n",
            "2022_0308_cam34_9.jpg\n",
            "2022_0308_cam34_5.jpg\n",
            "2022_0308_cam34_14.jpg\n",
            "2022_0308_cam34_6.jpg\n",
            "2022_0308_cam34_15.jpg\n",
            "2022_0308_cam34_16.jpg\n",
            "2022_0308_cam34_19.jpg\n",
            "2022_0308_cam34_20.jpg\n",
            "2022_0308_cam34_18.jpg\n",
            "2022_0308_cam34_17.jpg\n",
            "2022_0308_cam34_22.jpg\n",
            "2022_0308_cam34_21.jpg\n",
            "2022_0308_cam34_26.jpg\n",
            "2022_0308_cam34_23.jpg\n",
            "2022_0308_cam34_25.jpg\n",
            "2022_0308_cam34_29.jpg\n",
            "2022_0308_cam34_27.jpg\n",
            "2022_0308_cam34_30.jpg\n",
            "2022_0308_cam34_28.jpg\n",
            "2022_0308_cam34_31.jpg\n",
            "2022_0308_cam34_32.jpg\n",
            "2022_0308_cam34_44.jpg\n",
            "2022_0308_cam34_41.jpg\n",
            "2022_0308_cam34_43.jpg\n",
            "2022_0308_cam34_38.jpg\n",
            "2022_0308_cam34_33.jpg\n",
            "2022_0308_cam34_37.jpg\n",
            "2022_0308_cam34_36.jpg\n",
            "2022_0308_cam34_35.jpg\n",
            "2022_0308_cam34_34.jpg\n",
            "2022_0308_cam34_39.jpg\n",
            "2022_0308_cam34_42.jpg\n",
            "2022_0308_cam34_40.jpg\n",
            "2022_0308_cam34_49.jpg\n",
            "2022_0308_cam34_51.jpg\n",
            "2022_0308_cam34_45.jpg\n",
            "2022_0308_cam34_48.jpg\n",
            "2022_0308_cam34_52.jpg\n",
            "2022_0308_cam34_50.jpg\n",
            "2022_0308_cam34_53.jpg\n",
            "2022_0308_cam34_46.jpg\n",
            "2022_0308_cam34_47.jpg\n",
            "2022_0308_cam34_56.jpg\n",
            "2022_0308_cam34_55.jpg\n",
            "2022_0308_cam34_57.jpg\n",
            "2022_0308_cam34_54.jpg\n",
            "2022_0308_cam34_58.jpg\n",
            "2022_0308_cam34_60.jpg\n",
            "2022_0308_cam34_67.jpg\n",
            "2022_0308_cam34_61.jpg\n",
            "2022_0308_cam34_63.jpg\n",
            "2022_0308_cam34_65.jpg\n",
            "2022_0308_cam34_66.jpg\n",
            "2022_0308_cam34_59.jpg\n",
            "2022_0308_cam34_64.jpg\n",
            "2022_0308_cam34_62.jpg\n",
            "2022_0308_cam34_71.jpg\n",
            "2022_0308_cam34_69.jpg\n",
            "2022_0308_cam34_74.jpg\n",
            "2022_0308_cam34_68.jpg\n",
            "2022_0308_cam34_70.jpg\n",
            "2022_0308_cam34_73.jpg\n",
            "2022_0308_cam34_72.jpg\n",
            "2022_02151.jpg\n",
            "2022_02152.jpg\n",
            "c3_3.jpg\n",
            "c3_4.jpg\n",
            "c3_1.jpg\n",
            "c3_2.jpg\n",
            "c3_10.jpg\n",
            "c3_9.jpg\n",
            "c3_6.jpg\n",
            "c3_5.jpg\n",
            "c3_16.jpg\n",
            "c3_8.jpg\n",
            "c3_15.jpg\n",
            "c3_7.jpg\n",
            "c3_13.jpg\n",
            "c3_18.jpg\n",
            "c3_19.jpg\n",
            "c3_14.jpg\n",
            "c3_12.jpg\n",
            "c3_20.jpg\n",
            "c3_11.jpg\n",
            "c3_17.jpg\n",
            "c3_22.jpg\n",
            "c3_21.jpg\n",
            "c3_23.jpg\n",
            "c3_24.jpg\n",
            "c3_25.jpg\n",
            "c3_26.jpg\n",
            "c3_32.jpg\n",
            "c3_30.jpg\n",
            "c3_28.jpg\n",
            "c3_33.jpg\n",
            "c3_31.jpg\n",
            "ok_4.jpg\n",
            "c3_29.jpg\n",
            "ok_9.jpg\n",
            "ok_2.jpg\n",
            "ok_8.jpg\n",
            "ok_1.jpg\n",
            "c3_34.jpg\n",
            "ok_5.jpg\n",
            "c3_35.jpg\n",
            "ok_3.jpg\n",
            "ok_11.jpg\n",
            "ok_7.jpg\n",
            "ok_10.jpg\n",
            "ok_6.jpg\n",
            "seoulmetal_underng__2.jpg\n",
            "seoulmetal_underng__1.jpg\n",
            "seoulmetal_underng__4.jpg\n",
            "seoulmetal_underng__3.jpg\n",
            "seoulmetal_underng__12.jpg\n",
            "seoulmetal_underng__11.jpg\n",
            "seoulmetal_underng__6.jpg\n",
            "seoulmetal_underng__9.jpg\n",
            "seoulmetal_underng__8.jpg\n",
            "seoulmetal_underng__10.jpg\n",
            "seoulmetal_underng__5.jpg\n",
            "seoulmetal_understamp_10.jpg\n",
            "seoulmetal_underng__13.jpg\n",
            "seoulmetal_understamp_3.jpg\n",
            "seoulmetal_understamp_14.jpg\n",
            "seoulmetal_understamp_6.jpg\n",
            "seoulmetal_understamp_15.jpg\n",
            "seoulmetal_underng__14.jpg\n",
            "seoulmetal_understamp_8.jpg\n",
            "seoulmetal_understamp_1.jpg\n",
            "seoulmetal_understamp_7.jpg\n",
            "seoulmetal_underng__7.jpg\n",
            "seoulmetal_understamp_16.jpg\n",
            "seoulmetal_understamp_12.jpg\n",
            "seoulmetal_understamp_18.jpg\n",
            "seoulmetal_understamp_29.jpg\n",
            "seoulmetal_understamp_19.jpg\n",
            "seoulmetal_understamp_32.jpg\n",
            "seoulmetal_understamp_21.jpg\n",
            "seoulmetal_upperng_6.jpg\n",
            "seoulmetal_upperng_2.jpg\n",
            "seoulmetal_understamp_20.jpg\n",
            "seoulmetal_upperng_4.jpg\n",
            "seoulmetal_understamp_24.jpg\n",
            "seoulmetal_understamp_22.jpg\n",
            "seoulmetal_upperng_8.jpg\n",
            "seoulmetal_upperng_12.jpg\n",
            "seoulmetal_upperng_14.jpg\n",
            "seoulmetal_upperng_10.jpg\n",
            "seoulmetal_upperng_16.jpg\n"
          ]
        }
      ],
      "source": [
        "dataFiles_t = os.listdir(dataFile_t)\n",
        "p_code = '.jpg'\n",
        "for s in dataFiles_t:\n",
        "  p = s.split('.')[0] + p_code\n",
        "  print(p)\n",
        "  if p == '.jpg':\n",
        "    continue\n",
        "  xmlname = dataFile_t + '/' + s\n",
        "  imgname = dataFile_p + '/' + p\n",
        "  img = Image.open(imgname)\n",
        "  img_resize = img.resize((224, 224))\n",
        "  tree = ET.parse(xmlname)\n",
        "  root=tree.getroot()\n",
        "  tag_list = []\n",
        "  for i in root:\n",
        "    tag_list.append(i.tag)\n",
        "  if len(tag_list) == 6:\n",
        "    img_resize.save(class0File+ '/' + p)\n",
        "  elif len(tag_list) == 7:\n",
        "    class_num = int(tree.find(\"object\")[0].text)\n",
        "    if class_num == 1:\n",
        "      img_resize.save(class1File+ '/' + p)\n",
        "    elif class_num == 2:\n",
        "      img_resize.save(class2File+ '/' + p)\n",
        "    elif class_num == 3:\n",
        "      img_resize.save(class3File+ '/' + p)"
      ]
    },
    {
      "cell_type": "code",
      "source": [],
      "metadata": {
        "id": "GFTLvRtcz7mq"
      },
      "execution_count": null,
      "outputs": []
    },
    {
      "cell_type": "code",
      "execution_count": null,
      "metadata": {
        "id": "AETcSKVj5eob"
      },
      "outputs": [],
      "source": [
        "import keras\n",
        "from keras.preprocessing.image import ImageDataGenerator\n",
        "from keras.models import Sequential\n",
        "from keras.layers import Dense\n",
        "from keras.applications import vgg16\n",
        "from keras.applications import vgg19\n",
        "from keras.applications.vgg16 import preprocess_input\n",
        "from tensorflow.keras.optimizers import Adam\n",
        "import tensorflow as tf\n",
        "from tensorflow.keras.applications import ResNet101"
      ]
    },
    {
      "cell_type": "code",
      "execution_count": null,
      "metadata": {
        "id": "YqyOAjBF5gbj"
      },
      "outputs": [],
      "source": [
        "num_classes = 5\n",
        "image_size = 224"
      ]
    },
    {
      "cell_type": "code",
      "execution_count": null,
      "metadata": {
        "id": "XKW-dHDZ5gZO"
      },
      "outputs": [],
      "source": [
        "data_generator=ImageDataGenerator(preprocessing_function=preprocess_input)"
      ]
    },
    {
      "cell_type": "code",
      "execution_count": null,
      "metadata": {
        "colab": {
          "base_uri": "https://localhost:8080/"
        },
        "id": "0j-HAfIp5gWz",
        "outputId": "5a41a736-1fb2-4180-eacf-eff0ae86c5c8"
      },
      "outputs": [
        {
          "output_type": "stream",
          "name": "stdout",
          "text": [
            "Found 406 images belonging to 5 classes.\n"
          ]
        }
      ],
      "source": [
        "trainDir = '/content/drive/MyDrive/불량판정 프로젝트/2번 카메라 데이터/불량분류 전처리'\n",
        "train_set = data_generator.flow_from_directory(\n",
        "    trainDir,\n",
        "    target_size=(image_size, image_size),\n",
        "    batch_size=300,\n",
        "    class_mode='categorical'\n",
        "    )"
      ]
    },
    {
      "cell_type": "code",
      "execution_count": null,
      "metadata": {
        "colab": {
          "base_uri": "https://localhost:8080/"
        },
        "id": "uOQAMcjY5gUc",
        "outputId": "10c6edb4-f1b3-4518-e357-41fff9f1c88f"
      },
      "outputs": [
        {
          "output_type": "execute_result",
          "data": {
            "text/plain": [
              "300"
            ]
          },
          "metadata": {},
          "execution_count": 8
        }
      ],
      "source": [
        "x_train, y_train = next(train_set)\n",
        "len(x_train)"
      ]
    },
    {
      "cell_type": "code",
      "execution_count": null,
      "metadata": {
        "colab": {
          "base_uri": "https://localhost:8080/"
        },
        "id": "J1_04L4f5gPg",
        "outputId": "b87e41db-b4cd-4e16-d298-b8187906fd0a"
      },
      "outputs": [
        {
          "output_type": "stream",
          "name": "stdout",
          "text": [
            "Found 120 images belonging to 5 classes.\n"
          ]
        }
      ],
      "source": [
        "testDir = '/content/drive/MyDrive/불량판정 프로젝트/2번 카메라 데이터/테스트 데이터'\n",
        "test_set = data_generator.flow_from_directory(\n",
        "    testDir,\n",
        "    target_size=(image_size, image_size),\n",
        "    batch_size=30,\n",
        "    class_mode='categorical'\n",
        "    )"
      ]
    },
    {
      "cell_type": "code",
      "execution_count": null,
      "metadata": {
        "colab": {
          "base_uri": "https://localhost:8080/"
        },
        "id": "9XC2oqsw5gNa",
        "outputId": "38e0a00a-4170-4006-caa0-ebb1de88b4a8"
      },
      "outputs": [
        {
          "output_type": "execute_result",
          "data": {
            "text/plain": [
              "30"
            ]
          },
          "metadata": {},
          "execution_count": 8
        }
      ],
      "source": [
        "x_test, y_test = next(test_set)\n",
        "len(x_test)"
      ]
    },
    {
      "cell_type": "code",
      "execution_count": null,
      "metadata": {
        "colab": {
          "base_uri": "https://localhost:8080/"
        },
        "id": "TU7mnGaQ5gK1",
        "outputId": "6282a79b-3139-4d3d-ed9b-0442c726feb3"
      },
      "outputs": [
        {
          "output_type": "stream",
          "name": "stdout",
          "text": [
            "x_train (300, 224, 224, 3)\n",
            "y_train (300, 5)\n",
            "x_test (30, 224, 224, 3)\n",
            "y_test (30, 5)\n"
          ]
        }
      ],
      "source": [
        "print('x_train', x_train.shape)\n",
        "print('y_train', y_train.shape)\n",
        "print('x_test', x_test.shape)\n",
        "print('y_test', y_test.shape)"
      ]
    },
    {
      "cell_type": "code",
      "execution_count": null,
      "metadata": {
        "colab": {
          "base_uri": "https://localhost:8080/"
        },
        "id": "KCYacHdOVoMD",
        "outputId": "e3ba49ce-04be-45bb-c6d0-bea395a68655"
      },
      "outputs": [
        {
          "name": "stdout",
          "output_type": "stream",
          "text": [
            "Looking in indexes: https://pypi.org/simple, https://us-python.pkg.dev/colab-wheels/public/simple/\n",
            "Requirement already satisfied: pillow in /usr/local/lib/python3.7/dist-packages (7.1.2)\n"
          ]
        }
      ],
      "source": [
        "pip install pillow"
      ]
    },
    {
      "cell_type": "code",
      "execution_count": null,
      "metadata": {
        "id": "KBrMC2k_jHDn"
      },
      "outputs": [],
      "source": [
        "model = Sequential()\n",
        "model.add(vgg16.VGG16(include_top=False, pooling='avg', weights='imagenet',))"
      ]
    },
    {
      "cell_type": "code",
      "execution_count": null,
      "metadata": {
        "colab": {
          "base_uri": "https://localhost:8080/"
        },
        "id": "bpv4VNIAjKAL",
        "outputId": "2fe20ead-5c5d-4e55-f08b-ee3a23d49f4e"
      },
      "outputs": [
        {
          "output_type": "execute_result",
          "data": {
            "text/plain": [
              "[<keras.engine.input_layer.InputLayer at 0x7fddd5855510>,\n",
              " <keras.layers.convolutional.conv2d.Conv2D at 0x7fddd584b950>,\n",
              " <keras.layers.convolutional.conv2d.Conv2D at 0x7fddd585bfd0>,\n",
              " <keras.layers.pooling.max_pooling2d.MaxPooling2D at 0x7fddd69a4510>,\n",
              " <keras.layers.convolutional.conv2d.Conv2D at 0x7fddd721fe50>,\n",
              " <keras.layers.convolutional.conv2d.Conv2D at 0x7fddde4da5d0>,\n",
              " <keras.layers.pooling.max_pooling2d.MaxPooling2D at 0x7fddd69b5610>,\n",
              " <keras.layers.convolutional.conv2d.Conv2D at 0x7fddd585b6d0>,\n",
              " <keras.layers.convolutional.conv2d.Conv2D at 0x7fddd5862710>,\n",
              " <keras.layers.convolutional.conv2d.Conv2D at 0x7fddde4e8ad0>,\n",
              " <keras.layers.pooling.max_pooling2d.MaxPooling2D at 0x7fddde4da6d0>,\n",
              " <keras.layers.convolutional.conv2d.Conv2D at 0x7fddd585b5d0>,\n",
              " <keras.layers.convolutional.conv2d.Conv2D at 0x7fddd69b9c90>,\n",
              " <keras.layers.convolutional.conv2d.Conv2D at 0x7fdde0c728d0>,\n",
              " <keras.layers.pooling.max_pooling2d.MaxPooling2D at 0x7fddd694be90>,\n",
              " <keras.layers.convolutional.conv2d.Conv2D at 0x7fddd695abd0>,\n",
              " <keras.layers.convolutional.conv2d.Conv2D at 0x7fddd69559d0>,\n",
              " <keras.layers.convolutional.conv2d.Conv2D at 0x7fddd6955950>,\n",
              " <keras.layers.pooling.max_pooling2d.MaxPooling2D at 0x7fddd6955cd0>,\n",
              " <keras.layers.pooling.global_average_pooling2d.GlobalAveragePooling2D at 0x7fddd6962ad0>]"
            ]
          },
          "metadata": {},
          "execution_count": 23
        }
      ],
      "source": [
        "model.add(Dense(num_classes,activation='softmax'))\n",
        "model.layers[0].layers"
      ]
    },
    {
      "cell_type": "code",
      "execution_count": null,
      "metadata": {
        "colab": {
          "base_uri": "https://localhost:8080/"
        },
        "id": "vNvHW9jhSGDx",
        "outputId": "21c3506f-42ef-4cf9-c8e6-f12e71f093b0"
      },
      "outputs": [
        {
          "output_type": "stream",
          "name": "stdout",
          "text": [
            "Epoch 1/10\n",
            "5/5 [==============================] - 292s 57s/step - loss: 116.2785 - accuracy: 0.2476 - val_loss: 2.7966 - val_accuracy: 0.2444\n",
            "Epoch 2/10\n",
            "5/5 [==============================] - 287s 57s/step - loss: 2.7877 - accuracy: 0.2857 - val_loss: 1.7828 - val_accuracy: 0.2444\n",
            "Epoch 3/10\n",
            "5/5 [==============================] - 297s 59s/step - loss: 1.7261 - accuracy: 0.3000 - val_loss: 1.4741 - val_accuracy: 0.2556\n",
            "Epoch 4/10\n",
            "5/5 [==============================] - 306s 59s/step - loss: 1.5764 - accuracy: 0.2667 - val_loss: 1.3818 - val_accuracy: 0.5444\n",
            "Epoch 5/10\n",
            "5/5 [==============================] - 296s 58s/step - loss: 1.4437 - accuracy: 0.3190 - val_loss: 1.3492 - val_accuracy: 0.4444\n",
            "Epoch 6/10\n",
            "5/5 [==============================] - 287s 57s/step - loss: 1.3957 - accuracy: 0.3238 - val_loss: 1.3403 - val_accuracy: 0.2222\n",
            "Epoch 7/10\n",
            "5/5 [==============================] - 291s 57s/step - loss: 1.3695 - accuracy: 0.2571 - val_loss: 1.3118 - val_accuracy: 0.4222\n",
            "Epoch 8/10\n",
            "5/5 [==============================] - 287s 57s/step - loss: 1.3687 - accuracy: 0.2714 - val_loss: 1.3068 - val_accuracy: 0.2444\n",
            "Epoch 9/10\n",
            "5/5 [==============================] - 287s 57s/step - loss: 1.3541 - accuracy: 0.2810 - val_loss: 1.3026 - val_accuracy: 0.4000\n",
            "Epoch 10/10\n",
            "5/5 [==============================] - 287s 57s/step - loss: 1.3528 - accuracy: 0.3095 - val_loss: 1.3130 - val_accuracy: 0.2556\n"
          ]
        }
      ],
      "source": [
        "# 전처리 x , 증강 x (원본사진 vgg16)\n",
        "model.compile(loss='categorical_crossentropy',\n",
        "            optimizer = Adam(lr=0.001),\n",
        "            metrics=['accuracy'])\n",
        "hist=model.fit(x_train, y_train, batch_size=50, epochs=10, validation_split=0.3)"
      ]
    },
    {
      "cell_type": "code",
      "source": [
        "import matplotlib.pyplot as plt\n",
        "\n",
        "plt.plot(hist.history['accuracy'])\n",
        "plt.plot(hist.history['val_accuracy'])\n",
        "plt.title('VGG16')\n",
        "plt.ylabel('Accuracy')\n",
        "plt.xlabel('Epoch')\n",
        "plt.legend(['Train', 'Validataion'], loc = 'lower right')\n",
        "plt.grid()\n",
        "plt.show()"
      ],
      "metadata": {
        "colab": {
          "base_uri": "https://localhost:8080/",
          "height": 295
        },
        "id": "8ytY1_AMyCFM",
        "outputId": "2907298a-b96e-4cfc-b846-2a15a0326363"
      },
      "execution_count": null,
      "outputs": [
        {
          "output_type": "display_data",
          "data": {
            "text/plain": [
              "<Figure size 432x288 with 1 Axes>"
            ],
            "image/png": "[encoded data removed]"
          },
          "metadata": {
            "needs_background": "light"
          }
        }
      ]
    },
    {
      "cell_type": "code",
      "execution_count": null,
      "metadata": {
        "id": "Hp2jRnirnUJ3",
        "colab": {
          "base_uri": "https://localhost:8080/"
        },
        "outputId": "94a2584c-f2de-4b7f-9c89-fd85017c69d9"
      },
      "outputs": [
        {
          "output_type": "stream",
          "name": "stdout",
          "text": [
            "Downloading data from https://storage.googleapis.com/tensorflow/keras-applications/vgg19/vgg19_weights_tf_dim_ordering_tf_kernels_notop.h5\n",
            "80134624/80134624 [==============================] - 1s 0us/step\n"
          ]
        }
      ],
      "source": [
        "model5 = Sequential()\n",
        "model5.add(vgg19.VGG19(include_top=False, pooling='avg', weights='imagenet',))"
      ]
    },
    {
      "cell_type": "code",
      "execution_count": null,
      "metadata": {
        "colab": {
          "base_uri": "https://localhost:8080/"
        },
        "id": "BLe2DFr6npwY",
        "outputId": "52ee6616-f3f7-42f1-cbb2-5c5a9caf8c32"
      },
      "outputs": [
        {
          "output_type": "execute_result",
          "data": {
            "text/plain": [
              "[<keras.engine.input_layer.InputLayer at 0x7fedd238d1d0>,\n",
              " <keras.layers.convolutional.conv2d.Conv2D at 0x7fedcaa41cd0>,\n",
              " <keras.layers.convolutional.conv2d.Conv2D at 0x7fedcbae3ed0>,\n",
              " <keras.layers.pooling.max_pooling2d.MaxPooling2D at 0x7fedcaa76c90>,\n",
              " <keras.layers.convolutional.conv2d.Conv2D at 0x7fedca966f50>,\n",
              " <keras.layers.convolutional.conv2d.Conv2D at 0x7fedca966d10>,\n",
              " <keras.layers.pooling.max_pooling2d.MaxPooling2D at 0x7fedca901590>,\n",
              " <keras.layers.convolutional.conv2d.Conv2D at 0x7fedca906e50>,\n",
              " <keras.layers.convolutional.conv2d.Conv2D at 0x7fedca9060d0>,\n",
              " <keras.layers.convolutional.conv2d.Conv2D at 0x7fedca916c90>,\n",
              " <keras.layers.convolutional.conv2d.Conv2D at 0x7fedca916e50>,\n",
              " <keras.layers.pooling.max_pooling2d.MaxPooling2D at 0x7fedca90db90>,\n",
              " <keras.layers.convolutional.conv2d.Conv2D at 0x7fedca927d10>,\n",
              " <keras.layers.convolutional.conv2d.Conv2D at 0x7fedca92d850>,\n",
              " <keras.layers.convolutional.conv2d.Conv2D at 0x7fedca92d590>,\n",
              " <keras.layers.convolutional.conv2d.Conv2D at 0x7fedca922650>,\n",
              " <keras.layers.pooling.max_pooling2d.MaxPooling2D at 0x7fedca8bf790>,\n",
              " <keras.layers.convolutional.conv2d.Conv2D at 0x7fedca93ab90>,\n",
              " <keras.layers.convolutional.conv2d.Conv2D at 0x7fedca8bf8d0>,\n",
              " <keras.layers.convolutional.conv2d.Conv2D at 0x7fedca9311d0>,\n",
              " <keras.layers.convolutional.conv2d.Conv2D at 0x7fedca8d2450>,\n",
              " <keras.layers.pooling.max_pooling2d.MaxPooling2D at 0x7fedca8d2f50>,\n",
              " <keras.layers.pooling.global_average_pooling2d.GlobalAveragePooling2D at 0x7fedca8bfad0>]"
            ]
          },
          "metadata": {},
          "execution_count": 11
        }
      ],
      "source": [
        "model5.add(Dense(num_classes,activation='softmax'))\n",
        "model5.layers[0].layers"
      ]
    },
    {
      "cell_type": "code",
      "execution_count": null,
      "metadata": {
        "colab": {
          "base_uri": "https://localhost:8080/"
        },
        "id": "OLiS0MPtnvAk",
        "outputId": "558cd8ef-8faa-4d27-e7ed-fa0529ab2bc2"
      },
      "outputs": [
        {
          "output_type": "stream",
          "name": "stderr",
          "text": [
            "/usr/local/lib/python3.7/dist-packages/keras/optimizers/optimizer_v2/adam.py:110: UserWarning: The `lr` argument is deprecated, use `learning_rate` instead.\n",
            "  super(Adam, self).__init__(name, **kwargs)\n"
          ]
        },
        {
          "output_type": "stream",
          "name": "stdout",
          "text": [
            "Epoch 1/10\n",
            "5/5 [==============================] - 490s 94s/step - loss: 497.5752 - accuracy: 0.2143 - val_loss: 24.2340 - val_accuracy: 0.3000\n",
            "Epoch 2/10\n",
            "5/5 [==============================] - 482s 95s/step - loss: 6.8088 - accuracy: 0.3143 - val_loss: 1.4633 - val_accuracy: 0.2667\n",
            "Epoch 3/10\n",
            "5/5 [==============================] - 480s 94s/step - loss: 1.4675 - accuracy: 0.2905 - val_loss: 1.7824 - val_accuracy: 0.2667\n",
            "Epoch 4/10\n",
            "5/5 [==============================] - 493s 96s/step - loss: 1.5819 - accuracy: 0.3000 - val_loss: 1.3030 - val_accuracy: 0.3111\n",
            "Epoch 5/10\n",
            "5/5 [==============================] - 483s 95s/step - loss: 1.4500 - accuracy: 0.2810 - val_loss: 1.4329 - val_accuracy: 0.2667\n",
            "Epoch 6/10\n",
            "5/5 [==============================] - 487s 96s/step - loss: 1.3968 - accuracy: 0.3333 - val_loss: 1.3542 - val_accuracy: 0.3111\n",
            "Epoch 7/10\n",
            "5/5 [==============================] - 496s 98s/step - loss: 1.3682 - accuracy: 0.2905 - val_loss: 1.3362 - val_accuracy: 0.2667\n",
            "Epoch 8/10\n",
            "5/5 [==============================] - 511s 100s/step - loss: 1.3579 - accuracy: 0.3619 - val_loss: 1.3481 - val_accuracy: 0.2667\n",
            "Epoch 9/10\n",
            "5/5 [==============================] - 503s 99s/step - loss: 1.3298 - accuracy: 0.3381 - val_loss: 1.3180 - val_accuracy: 0.2667\n",
            "Epoch 10/10\n",
            "5/5 [==============================] - 492s 96s/step - loss: 1.3678 - accuracy: 0.3286 - val_loss: 1.3018 - val_accuracy: 0.3667\n"
          ]
        }
      ],
      "source": [
        "# 전처리 x , 증강 x (원본사진 vgg19)\n",
        "model5.compile(loss='categorical_crossentropy',\n",
        "            optimizer = Adam(lr=0.001),\n",
        "            metrics=['accuracy'])\n",
        "hist1=model5.fit(x_train, y_train, batch_size=50, epochs=10, validation_split=0.3)"
      ]
    },
    {
      "cell_type": "code",
      "source": [
        "import matplotlib.pyplot as plt\n",
        "\n",
        "plt.plot(hist1.history['accuracy'])\n",
        "plt.plot(hist1.history['val_accuracy'])\n",
        "plt.title('VGG19')\n",
        "plt.ylabel('Accuracy')\n",
        "plt.xlabel('Epoch')\n",
        "plt.legend(['Train', 'Validataion'], loc = 'lower right')\n",
        "plt.grid()\n",
        "plt.show()"
      ],
      "metadata": {
        "colab": {
          "base_uri": "https://localhost:8080/",
          "height": 295
        },
        "id": "us9aPDQtyNA6",
        "outputId": "c4d9bc50-cb86-4be3-ffb3-3dc4fa2dcd31"
      },
      "execution_count": null,
      "outputs": [
        {
          "output_type": "display_data",
          "data": {
            "text/plain": [
              "<Figure size 432x288 with 1 Axes>"
            ],
            "image/png": "[encoded data removed]"
          },
          "metadata": {
            "needs_background": "light"
          }
        }
      ]
    },
    {
      "cell_type": "code",
      "execution_count": null,
      "metadata": {
        "id": "bc9aNyX0TrEQ"
      },
      "outputs": [],
      "source": [
        "import numpy as np\n",
        "from tensorflow.keras.applications.resnet50 import ResNet50, preprocess_input, decode_predictions\n",
        "from tensorflow.keras.preprocessing.image import load_img, img_to_array"
      ]
    },
    {
      "cell_type": "code",
      "execution_count": null,
      "metadata": {
        "id": "gylFbrklTnx5"
      },
      "outputs": [],
      "source": [
        "# ResNet50 모델 선언\n",
        "model1 = ResNet50(include_top=True, weights=None, input_shape=(224, 224, 3), pooling=max, classes=5) # 클래스는 맞춰서 변경요망"
      ]
    },
    {
      "cell_type": "code",
      "execution_count": null,
      "metadata": {
        "colab": {
          "base_uri": "https://localhost:8080/"
        },
        "id": "HdYALBbJhrBA",
        "outputId": "1a72c00c-f778-4917-ff40-88a686b1cc65"
      },
      "outputs": [
        {
          "output_type": "stream",
          "name": "stdout",
          "text": [
            "Epoch 1/10\n",
            "5/5 [==============================] - 163s 30s/step - loss: 4.7396 - accuracy: 0.3667 - val_loss: 47.6434 - val_accuracy: 0.3000\n",
            "Epoch 2/10\n",
            "5/5 [==============================] - 167s 32s/step - loss: 1.5967 - accuracy: 0.4905 - val_loss: 163.9858 - val_accuracy: 0.2667\n",
            "Epoch 3/10\n",
            "5/5 [==============================] - 150s 29s/step - loss: 1.2786 - accuracy: 0.5952 - val_loss: 376.4236 - val_accuracy: 0.2667\n",
            "Epoch 4/10\n",
            "5/5 [==============================] - 149s 29s/step - loss: 0.7444 - accuracy: 0.7238 - val_loss: 401.2084 - val_accuracy: 0.2667\n",
            "Epoch 5/10\n",
            "5/5 [==============================] - 149s 29s/step - loss: 0.6561 - accuracy: 0.8048 - val_loss: 250.6077 - val_accuracy: 0.2667\n",
            "Epoch 6/10\n",
            "5/5 [==============================] - 150s 29s/step - loss: 0.6624 - accuracy: 0.7714 - val_loss: 147.7064 - val_accuracy: 0.3556\n",
            "Epoch 7/10\n",
            "5/5 [==============================] - 150s 29s/step - loss: 0.3565 - accuracy: 0.8667 - val_loss: 82.4227 - val_accuracy: 0.2667\n",
            "Epoch 8/10\n",
            "5/5 [==============================] - 148s 29s/step - loss: 0.4001 - accuracy: 0.8857 - val_loss: 31.2745 - val_accuracy: 0.3556\n",
            "Epoch 9/10\n",
            "5/5 [==============================] - 147s 29s/step - loss: 0.2596 - accuracy: 0.8952 - val_loss: 18.9455 - val_accuracy: 0.3556\n",
            "Epoch 10/10\n",
            "5/5 [==============================] - 150s 29s/step - loss: 0.7521 - accuracy: 0.8190 - val_loss: 11.6881 - val_accuracy: 0.3222\n"
          ]
        }
      ],
      "source": [
        "# ResNet 모델 학습 및 구현\n",
        "model1.compile(loss='categorical_crossentropy', metrics=['accuracy'],optimizer='adam')\n",
        "hist2 = model1.fit(x_train,y_train,batch_size=50, epochs=10, validation_split=(0.3))"
      ]
    },
    {
      "cell_type": "code",
      "source": [
        "import matplotlib.pyplot as plt\n",
        "\n",
        "plt.plot(hist2.history['accuracy'])\n",
        "plt.plot(hist2.history['val_accuracy'])\n",
        "plt.title('RESNET 50')\n",
        "plt.ylabel('Accuracy')\n",
        "plt.xlabel('Epoch')\n",
        "plt.legend(['Train', 'Validataion'], loc = 'lower right')\n",
        "plt.grid()\n",
        "plt.show()"
      ],
      "metadata": {
        "colab": {
          "base_uri": "https://localhost:8080/",
          "height": 295
        },
        "id": "G0ZDFMFZyP0G",
        "outputId": "bcef5993-b80d-4a14-a0da-0114875b206e"
      },
      "execution_count": null,
      "outputs": [
        {
          "output_type": "display_data",
          "data": {
            "text/plain": [
              "<Figure size 432x288 with 1 Axes>"
            ],
            "image/png": "[encoded data removed]"
          },
          "metadata": {
            "needs_background": "light"
          }
        }
      ]
    },
    {
      "cell_type": "code",
      "execution_count": null,
      "metadata": {
        "id": "0KRpCUUE0bSF"
      },
      "outputs": [],
      "source": [
        "# resnet101\n",
        "model2 = ResNet101(include_top=True, weights=None, input_shape=(224, 224, 3), pooling=max, classes=5) # 클래스는 맞춰서 변경요망"
      ]
    },
    {
      "cell_type": "code",
      "execution_count": null,
      "metadata": {
        "id": "1NvLZkP1LqE1",
        "colab": {
          "base_uri": "https://localhost:8080/"
        },
        "outputId": "728b282c-b143-461e-f920-9fc74b51418d"
      },
      "outputs": [
        {
          "output_type": "stream",
          "name": "stdout",
          "text": [
            "Epoch 1/10\n"
          ]
        }
      ],
      "source": [
        "# ResNet 101 모델 학습 및 구현\n",
        "model2.compile(loss='categorical_crossentropy', metrics=['accuracy'],optimizer='adam')\n",
        "hist3 = model2.fit(x_train,y_train,batch_size=50, epochs=10, validation_split=(0.3))"
      ]
    },
    {
      "cell_type": "code",
      "source": [
        "import matplotlib.pyplot as plt\n",
        "\n",
        "plt.plot(hist3.history['accuracy'])\n",
        "plt.plot(hist3.history['val_accuracy'])\n",
        "plt.title('RESNET 101')\n",
        "plt.ylabel('Accuracy')\n",
        "plt.xlabel('Epoch')\n",
        "plt.legend(['Train', 'Validataion'], loc = 'lower right')\n",
        "plt.grid()\n",
        "plt.show()"
      ],
      "metadata": {
        "id": "K9DflhEycTJl"
      },
      "execution_count": null,
      "outputs": []
    },
    {
      "cell_type": "code",
      "source": [],
      "metadata": {
        "id": "A1gdTDrnySd5"
      },
      "execution_count": null,
      "outputs": []
    }
  ],
  "metadata": {
    "colab": {
      "collapsed_sections": [],
      "provenance": []
    },
    "kernelspec": {
      "display_name": "Python 3",
      "name": "python3"
    },
    "language_info": {
      "name": "python"
    }
  },
  "nbformat": 4,
  "nbformat_minor": 0
}